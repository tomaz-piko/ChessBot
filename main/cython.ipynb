{
 "cells": [
  {
   "cell_type": "code",
   "execution_count": 1,
   "metadata": {},
   "outputs": [
    {
     "name": "stderr",
     "output_type": "stream",
     "text": [
      "2024-03-26 13:39:33.730974: I tensorflow/core/platform/cpu_feature_guard.cc:182] This TensorFlow binary is optimized to use available CPU instructions in performance-critical operations.\n",
      "To enable the following instructions: AVX2 FMA, in other operations, rebuild TensorFlow with the appropriate compiler flags.\n",
      "2024-03-26 13:39:35.966123: I tensorflow/core/common_runtime/gpu/gpu_device.cc:1635] Created device /job:localhost/replica:0/task:0/device:GPU:0 with 5909 MB memory:  -> device: 0, name: NVIDIA GeForce RTX 2070 SUPER, pci bus id: 0000:26:00.0, compute capability: 7.5\n",
      "2024-03-26 13:39:36.684918: E tensorflow/compiler/tf2tensorrt/utils/trt_logger.cc:87] DefaultLogger 3: [runtime.cpp::~Runtime::346] Error Code 3: API Usage Error (Parameter check failed at: runtime/rt/runtime.cpp::~Runtime::346, condition: mEngineCounter.use_count() == 1. Destroying a runtime before destroying deserialized engines created by the runtime leads to undefined behavior.\n",
      ")\n"
     ]
    }
   ],
   "source": [
    "import numpy as np\n",
    "from gameimage import board_to_image, update_image\n",
    "import chess\n",
    "from game import Game\n",
    "from actionspace import map_w, map_b\n",
    "import tensorflow as tf\n",
    "from tf_funcs import predict_fn\n",
    "from train.config import TrainingConfig\n",
    "from math import log\n",
    "from time import time\n",
    "from trt_funcs import load_trt_model_latest\n",
    "import pympler.asizeof\n",
    "trt_func, model = load_trt_model_latest()\n"
   ]
  },
  {
   "cell_type": "code",
   "execution_count": 2,
   "metadata": {},
   "outputs": [],
   "source": [
    "from mcts import run_mcts\n",
    "from test_games import ruy_lopez, scholars_mate, single_move\n",
    "from time import time\n",
    "config = TrainingConfig()\n",
    "game = Game(single_move)"
   ]
  },
  {
   "cell_type": "code",
   "execution_count": 3,
   "metadata": {},
   "outputs": [
    {
     "name": "stdout",
     "output_type": "stream",
     "text": [
      "Time for MCTS: 3.63s\n",
      "Visits: 0\n",
      "Summed value: 0.000000\n",
      "Evaluation: 0.503397\n",
      "Best variation: e8f7\n",
      "Move          Visits  NN Output                    Policy             Prior          Avg. value     UCB            Q+U           \n",
      "----------------------------------------------------------------------------------------------------------------------------------\n",
      "e8f7  (None)  N: 1    (v: 0.000000, p:  0.188337)  (p_norm: 100.00%)  (P: 1.000000)  (Q: 0.000000)  (U: 0.000000)  (Q+U: 0.000000)\n"
     ]
    }
   ],
   "source": [
    "move, root, visit_counts = run_mcts(game, config, trt_func, 800, time_limit=5.0, root=None, verbose_move=True, engine_play=True)"
   ]
  },
  {
   "cell_type": "code",
   "execution_count": 4,
   "metadata": {},
   "outputs": [
    {
     "name": "stdout",
     "output_type": "stream",
     "text": [
      "e8f7 -> P: 1.000000, Q: 0.000000, W: 0.000000, N: 1\n"
     ]
    }
   ],
   "source": [
    "from test_games import ruy_lopez_cpp, scholars_mate_cpp, single_move_cpp\n",
    "from mcts.c import run_mcts as run_mcts_c\n",
    "game = Game(single_move_cpp)\n",
    "move, root, visit_counts = run_mcts_c(game, config, trt_func, 800, time_limit=15.0, verbose_move=True)\n",
    "root.describe()"
   ]
  },
  {
   "cell_type": "code",
   "execution_count": null,
   "metadata": {},
   "outputs": [],
   "source": []
  }
 ],
 "metadata": {
  "kernelspec": {
   "display_name": "Python 3",
   "language": "python",
   "name": "python3"
  },
  "language_info": {
   "codemirror_mode": {
    "name": "ipython",
    "version": 3
   },
   "file_extension": ".py",
   "mimetype": "text/x-python",
   "name": "python",
   "nbconvert_exporter": "python",
   "pygments_lexer": "ipython3",
   "version": "3.10.12"
  }
 },
 "nbformat": 4,
 "nbformat_minor": 2
}
