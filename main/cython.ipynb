{
 "cells": [
  {
   "cell_type": "code",
   "execution_count": 1,
   "metadata": {},
   "outputs": [
    {
     "name": "stderr",
     "output_type": "stream",
     "text": [
      "2024-03-22 19:05:00.209538: I tensorflow/core/platform/cpu_feature_guard.cc:182] This TensorFlow binary is optimized to use available CPU instructions in performance-critical operations.\n",
      "To enable the following instructions: AVX2 FMA, in other operations, rebuild TensorFlow with the appropriate compiler flags.\n"
     ]
    }
   ],
   "source": [
    "import numpy as np\n",
    "from gameimage import board_to_image, update_image\n",
    "import chess\n",
    "from game import Game\n",
    "from actionspace import map_w, map_b\n",
    "import tensorflow as tf\n",
    "from tf_funcs import predict_fn\n",
    "from train.config import TrainingConfig\n",
    "from math import log\n",
    "from time import time\n",
    "from trt_funcs import load_trt_model_latest\n",
    "import pympler.asizeof\n",
    "trt_func, model = load_trt_model_latest()\n"
   ]
  },
  {
   "cell_type": "code",
   "execution_count": 2,
   "metadata": {},
   "outputs": [
    {
     "name": "stderr",
     "output_type": "stream",
     "text": [
      "2024-03-22 19:05:01.742528: I tensorflow/core/common_runtime/gpu/gpu_device.cc:1635] Created device /job:localhost/replica:0/task:0/device:GPU:0 with 5937 MB memory:  -> device: 0, name: NVIDIA GeForce RTX 2070 SUPER, pci bus id: 0000:26:00.0, compute capability: 7.5\n",
      "2024-03-22 19:05:03.265155: E tensorflow/compiler/tf2tensorrt/utils/trt_logger.cc:87] DefaultLogger 3: [runtime.cpp::~Runtime::346] Error Code 3: API Usage Error (Parameter check failed at: runtime/rt/runtime.cpp::~Runtime::346, condition: mEngineCounter.use_count() == 1. Destroying a runtime before destroying deserialized engines created by the runtime leads to undefined behavior.\n",
      ")\n"
     ]
    }
   ],
   "source": [
    "trt_func, model = load_trt_model_latest()\n"
   ]
  },
  {
   "cell_type": "code",
   "execution_count": 12,
   "metadata": {},
   "outputs": [],
   "source": [
    "from mcts.c import run_mcts\n",
    "from test_games import ruy_lopez, scholars_mate_cpp\n",
    "from time import time\n",
    "config = TrainingConfig()\n",
    "config.num_mcts_sampling_moves = 0\n",
    "game = Game(scholars_mate_cpp)\n",
    "#game.board"
   ]
  },
  {
   "cell_type": "code",
   "execution_count": 22,
   "metadata": {},
   "outputs": [
    {
     "name": "stdout",
     "output_type": "stream",
     "text": [
      "3.704056739807129\n",
      "h5f7\n"
     ]
    }
   ],
   "source": [
    "t1 = time()\n",
    "move, root, visit_counts = run_mcts(game, config, trt_func, 800, return_statistics=True)\n",
    "t2 = time()\n",
    "print(t2-t1)\n",
    "print(move)"
   ]
  },
  {
   "cell_type": "code",
   "execution_count": 7,
   "metadata": {},
   "outputs": [
    {
     "name": "stdout",
     "output_type": "stream",
     "text": [
      "Time for MCTS: 4.034390926361084\n",
      "Visits: 826\n",
      "Summed value: 267.908492\n",
      "Evaluation: 0.660830\n",
      "Best variation: h5f7\n",
      "Move          Visits  NN Output                    Policy             Prior          Avg. value     UCB            Q+U           \n",
      "----------------------------------------------------------------------------------------------------------------------------------\n",
      "h5f7  (None)  N: 293  (v: 1.000000, p:  0.224338)  (p_norm:   2.70%)  (P: 0.026956)  (Q: 1.000000)  (U: 1.013210)  (Q+U: 2.013210)\n",
      "h5g4  (None)  N: 22   (v: 0.361728, p: -0.083441)  (p_norm:   2.05%)  (P: 0.018815)  (Q: 0.476211)  (U: 0.593670)  (Q+U: 1.069881)\n",
      "h5h7  (None)  N: 20   (v: 0.346541, p: -0.216094)  (p_norm:   1.82%)  (P: 0.014767)  (Q: 0.494577)  (U: 0.595550)  (Q+U: 1.090127)\n",
      "h5e5  (None)  N: 20   (v: 0.331553, p: -0.040489)  (p_norm:   2.13%)  (P: 0.018228)  (Q: 0.496994)  (U: 0.621632)  (Q+U: 1.118625)\n",
      "c4a6  (None)  N: 20   (v: 0.354769, p: -0.116476)  (p_norm:   1.99%)  (P: 0.016684)  (Q: 0.486397)  (U: 0.600475)  (Q+U: 1.086872)\n",
      "h5f3  (None)  N: 19   (v: 0.353652, p: -0.340268)  (p_norm:   1.63%)  (P: 0.026983)  (Q: 0.497080)  (U: 0.690802)  (Q+U: 1.187882)\n",
      "h5g5  (None)  N: 14   (v: 0.351757, p:  0.248260)  (p_norm:   2.76%)  (P: 0.056085)  (Q: 0.487182)  (U: 0.971972)  (Q+U: 1.459154)\n",
      "c4e6  (None)  N: 14   (v: 0.354657, p:  0.508144)  (p_norm:   3.47%)  (P: 0.027243)  (Q: 0.481569)  (U: 0.742351)  (Q+U: 1.223920)\n",
      "h5h6  (None)  N: 13   (v: 0.366816, p: -0.106401)  (p_norm:   2.01%)  (P: 0.039577)  (Q: 0.504776)  (U: 0.910686)  (Q+U: 1.415462)\n",
      "h5g6  (None)  N: 13   (v: 0.365909, p: -0.092889)  (p_norm:   2.03%)  (P: 0.015865)  (Q: 0.507534)  (U: 0.670254)  (Q+U: 1.177788)\n",
      "h5f5  (None)  N: 13   (v: 0.328099, p:  0.043051)  (p_norm:   2.30%)  (P: 0.028646)  (Q: 0.503995)  (U: 0.797797)  (Q+U: 1.301792)\n",
      "h5h4  (None)  N: 13   (v: 0.346209, p: -0.083894)  (p_norm:   2.05%)  (P: 0.015395)  (Q: 0.510346)  (U: 0.668238)  (Q+U: 1.178584)\n",
      "c4f7  (None)  N: 13   (v: 0.346984, p:  0.060560)  (p_norm:   2.33%)  (P: 0.017882)  (Q: 0.490150)  (U: 0.673558)  (Q+U: 1.163708)\n",
      "c4d5  (None)  N: 13   (v: 0.332419, p: -0.273976)  (p_norm:   1.73%)  (P: 0.012993)  (Q: 0.502670)  (U:-10.567158)  (Q+U:-10.064488)\n",
      "c4b5  (None)  N: 13   (v: 0.344333, p:  0.071923)  (p_norm:   2.36%)  (P: 0.017671)  (Q: 0.489098)  (U: 0.670336)  (Q+U: 1.159434)\n",
      "c4d3  (None)  N: 13   (v: 0.366476, p:  0.113048)  (p_norm:   2.44%)  (P: 0.018376)  (Q: 0.510729)  (U: 0.699204)  (Q+U: 1.209934)\n",
      "c4f1  (None)  N: 13   (v: 0.347759, p:  0.291127)  (p_norm:   2.86%)  (P: 0.042931)  (Q: 0.494270)  (U: 0.934587)  (Q+U: 1.428857)\n",
      "g1h3  (None)  N: 13   (v: 0.359590, p:  0.011165)  (p_norm:   2.23%)  (P: 0.021565)  (Q: 0.503219)  (U: 0.724394)  (Q+U: 1.227613)\n",
      "g1f3  (None)  N: 13   (v: 0.362518, p:  0.068475)  (p_norm:   2.35%)  (P: 0.017735)  (Q: 0.504712)  (U: 0.686607)  (Q+U: 1.191320)\n",
      "e1e2  (None)  N: 13   (v: 0.285670, p:  0.013380)  (p_norm:   2.24%)  (P: 0.017138)  (Q: 0.469709)  (U: 0.645484)  (Q+U: 1.115193)\n",
      "e1f1  (None)  N: 13   (v: 0.269325, p: -0.008264)  (p_norm:   2.19%)  (P: 0.016463)  (Q: 0.474914)  (U: 0.643765)  (Q+U: 1.118679)\n",
      "e1d1  (None)  N: 13   (v: 0.278944, p:  0.216875)  (p_norm:   2.68%)  (P: 0.023461)  (Q: 0.473785)  (U: 0.714407)  (Q+U: 1.188192)\n",
      "b1c3  (None)  N: 13   (v: 0.381392, p: -0.320372)  (p_norm:   1.66%)  (P: 0.013369)  (Q: 0.523724)  (U:-10.540146)  (Q+U:-10.016422)\n",
      "h2h3  (None)  N: 13   (v: 0.359365, p:  0.180211)  (p_norm:   2.59%)  (P: 0.023545)  (Q: 0.499581)  (U: 0.741064)  (Q+U: 1.240644)\n",
      "g2g3  (None)  N: 13   (v: 0.362969, p: -0.206727)  (p_norm:   1.84%)  (P: 0.034365)  (Q: 0.512226)  (U: 0.864680)  (Q+U: 1.376906)\n",
      "f2f3  (None)  N: 13   (v: 0.361616, p: -0.037595)  (p_norm:   2.14%)  (P: 0.025013)  (Q: 0.495797)  (U: 0.752343)  (Q+U: 1.248140)\n",
      "d2d3  (None)  N: 13   (v: 0.368064, p:  0.757656)  (p_norm:   4.33%)  (P: 0.032740)  (Q: 0.500491)  (U: 0.836283)  (Q+U: 1.336774)\n",
      "b2b3  (None)  N: 13   (v: 0.381335, p:  0.316133)  (p_norm:   2.93%)  (P: 0.031320)  (Q: 0.517079)  (U: 0.838304)  (Q+U: 1.355383)\n",
      "a2a3  (None)  N: 13   (v: 0.349310, p: -0.107449)  (p_norm:   2.01%)  (P: 0.015491)  (Q: 0.504698)  (U: 0.663579)  (Q+U: 1.168277)\n",
      "f2f4  (None)  N: 13   (v: 0.361728, p:  0.092973)  (p_norm:   2.40%)  (P: 0.018388)  (Q: 0.502580)  (U: 0.691172)  (Q+U: 1.193751)\n",
      "d2d4  (None)  N: 13   (v: 0.348755, p:  0.448773)  (p_norm:   3.29%)  (P: 0.024780)  (Q: 0.501540)  (U: 0.755692)  (Q+U: 1.257232)\n",
      "b2b4  (None)  N: 13   (v: 0.353540, p: -0.047969)  (p_norm:   2.12%)  (P: 0.021358)  (Q: 0.510608)  (U: 0.729663)  (Q+U: 1.240271)\n",
      "g2g4  (None)  N: 11   (v: 0.357793, p:  0.117542)  (p_norm:   2.45%)  (P: 0.018523)  (Q: 0.493566)  (U: 0.715209)  (Q+U: 1.208775)\n",
      "h5d1  (None)  N: 9    (v: 0.362067, p: -0.256893)  (p_norm:   1.76%)  (P: 0.037470)  (Q: 0.540541)  (U: 0.995655)  (Q+U: 1.536196)\n",
      "h5h3  (None)  N: 8    (v: 0.352314, p: -0.437946)  (p_norm:   1.50%)  (P: 0.015626)  (Q: 0.518710)  (U: 0.768004)  (Q+U: 1.286714)\n",
      "h5e2  (None)  N: 8    (v: 0.347980, p:  0.042485)  (p_norm:   2.30%)  (P: 0.017367)  (Q: 0.515332)  (U: 0.792410)  (Q+U: 1.307742)\n",
      "c4b3  (None)  N: 8    (v: 0.355105, p: -0.159331)  (p_norm:   1.92%)  (P: 0.032264)  (Q: 0.485609)  (U: 1.000362)  (Q+U: 1.485971)\n",
      "c4e2  (None)  N: 8    (v: 0.334481, p:  0.254370)  (p_norm:   2.77%)  (P: 0.022308)  (Q: 0.470917)  (U: 0.826822)  (Q+U: 1.297739)\n",
      "g1e2  (None)  N: 8    (v: 0.357681, p:  0.160089)  (p_norm:   2.55%)  (P: 0.019898)  (Q: 0.487052)  (U: 0.804506)  (Q+U: 1.291558)\n",
      "b1a3  (None)  N: 8    (v: 0.377770, p: -0.136812)  (p_norm:   1.96%)  (P: 0.014925)  (Q: 0.490167)  (U: 0.728279)  (Q+U: 1.218447)\n",
      "c2c3  (None)  N: 8    (v: 0.359815, p: -0.004073)  (p_norm:   2.20%)  (P: 0.018285)  (Q: 0.507169)  (U: 0.798890)  (Q+U: 1.306059)\n",
      "h2h4  (None)  N: 8    (v: 0.357568, p:  0.094887)  (p_norm:   2.40%)  (P: 0.023788)  (Q: 0.491311)  (U: 0.870832)  (Q+U: 1.362143)\n",
      "a2a4  (None)  N: 8    (v: 0.353875, p:  0.141479)  (p_norm:   2.51%)  (P: 0.027720)  (Q: 0.489655)  (U: 0.931914)  (Q+U: 1.421569)\n"
     ]
    }
   ],
   "source": [
    "from test_games import ruy_lopez, scholars_mate\n",
    "from mcts2 import MCTS\n",
    "config = TrainingConfig()\n",
    "game = Game(scholars_mate)\n",
    "mcts = MCTS(config, trt_func, False)\n",
    "move, visit_counts = mcts(game, 800, verbose_move=True)"
   ]
  },
  {
   "cell_type": "code",
   "execution_count": 4,
   "metadata": {},
   "outputs": [
    {
     "name": "stdout",
     "output_type": "stream",
     "text": [
      "h2h3 43\n",
      "7.62939453125e-05 MB\n"
     ]
    }
   ],
   "source": [
    "move, child_visits = mcts(game, 800, minimal_exploration=False, return_statistics=True)\n",
    "print(move, len(child_visits[child_visits > 0]))\n",
    "print(pympler.asizeof.asizeof(mcts.root) / 1024 / 1024, \"MB\")"
   ]
  },
  {
   "cell_type": "code",
   "execution_count": 5,
   "metadata": {},
   "outputs": [],
   "source": [
    "new_root = mcts.root[move]\n",
    "del mcts.root"
   ]
  },
  {
   "cell_type": "code",
   "execution_count": 8,
   "metadata": {},
   "outputs": [
    {
     "name": "stdout",
     "output_type": "stream",
     "text": [
      "<main.mcts2.c.Node object at 0x7685344b8040>\n"
     ]
    }
   ],
   "source": [
    "print(new_root)"
   ]
  },
  {
   "cell_type": "code",
   "execution_count": 8,
   "metadata": {},
   "outputs": [
    {
     "name": "stdout",
     "output_type": "stream",
     "text": [
      "f6e4 29\n",
      "0.00011444091796875 MB\n"
     ]
    }
   ],
   "source": [
    "game.make_move(move)\n",
    "mcts.root = mcts.root[move]\n",
    "move, child_visits = mcts(game, 800, minimal_exploration=False, return_statistics=True)\n",
    "print(move, len(child_visits[child_visits > 0]))\n",
    "print(pympler.asizeof.asizeof(mcts) / 1024 / 1024, \"MB\")"
   ]
  },
  {
   "cell_type": "code",
   "execution_count": 8,
   "metadata": {},
   "outputs": [
    {
     "name": "stdout",
     "output_type": "stream",
     "text": [
      "0.00011444091796875 MB\n"
     ]
    }
   ],
   "source": [
    "mcts.root.reset()\n",
    "print(pympler.asizeof.asizeof(mcts) / 1024 / 1024, \"MB\")"
   ]
  },
  {
   "cell_type": "code",
   "execution_count": 9,
   "metadata": {},
   "outputs": [
    {
     "name": "stdout",
     "output_type": "stream",
     "text": [
      "7.62939453125e-05 MB\n"
     ]
    }
   ],
   "source": [
    "print(pympler.asizeof.asizeof(mcts.root) / 1024 / 1024, \"MB\")"
   ]
  },
  {
   "cell_type": "code",
   "execution_count": 5,
   "metadata": {},
   "outputs": [
    {
     "name": "stdout",
     "output_type": "stream",
     "text": [
      "Time taken: 0.83s\n",
      "Visits: 800\n",
      "Summed value: 129.518767\n",
      "Evaluation: 0.399608\n",
      "Best variation: h5f7\n",
      "Move          Visits  NN Output                    Policy             Prior          Avg. value     UCB            Q+U           \n",
      "----------------------------------------------------------------------------------------------------------------------------------\n",
      "h5f7  (4395)  N: 542  (v: 0.000000, p: -0.140139)  (p_norm:   2.03%)  (P: 0.020348)  (Q: 1.000000)  (U: 1.005381)  (Q+U: 2.005381)\n",
      "h5g5  (4386)  N: 8    (v: 0.402944, p:  0.287488)  (p_norm:   2.98%)  (P: 0.029758)  (Q: 0.503448)  (U: 0.978217)  (Q+U: 1.481665)\n",
      "h5h3  (4392)  N: 8    (v: 0.409176, p:  0.250946)  (p_norm:   2.88%)  (P: 0.028807)  (Q: 0.505347)  (U: 0.964942)  (Q+U: 1.470290)\n",
      "c4f7  (1404)  N: 8    (v: 0.388092, p:  0.253911)  (p_norm:   2.89%)  (P: 0.028883)  (Q: 0.526062)  (U: 0.986871)  (Q+U: 1.512932)\n",
      "c4b5  (1394)  N: 8    (v: 0.387412, p:  0.255791)  (p_norm:   2.89%)  (P: 0.028931)  (Q: 0.495043)  (U: 0.956622)  (Q+U: 1.451664)\n",
      "c4e2  (1398)  N: 8    (v: 0.381558, p:  0.234423)  (p_norm:   2.84%)  (P: 0.028387)  (Q: 0.493378)  (U: 1.005442)  (Q+U: 1.498820)\n",
      "c4f1  (1406)  N: 8    (v: 0.386229, p:  0.246592)  (p_norm:   2.87%)  (P: 0.028696)  (Q: 0.500987)  (U: 0.958807)  (Q+U: 1.459794)\n",
      "b2b3  (657 )  N: 8    (v: 0.447292, p:  0.259807)  (p_norm:   2.90%)  (P: 0.029035)  (Q: 0.487182)  (U: 0.950412)  (Q+U: 1.437593)\n",
      "a2a3  (73  )  N: 8    (v: 0.435889, p:  0.316913)  (p_norm:   3.05%)  (P: 0.030547)  (Q: 0.494081)  (U: 0.981432)  (Q+U: 1.475513)\n",
      "c4e6  (1396)  N: 7    (v: 0.407142, p:  0.137172)  (p_norm:   2.60%)  (P: 0.026036)  (Q: 0.497900)  (U: 0.965212)  (Q+U: 1.463111)\n",
      "c4a6  (1402)  N: 7    (v: 0.387834, p:  0.226558)  (p_norm:   2.82%)  (P: 0.028189)  (Q: 0.489190)  (U: 0.995147)  (Q+U: 1.484337)\n",
      "c4d3  (1390)  N: 7    (v: 0.389058, p:  0.208752)  (p_norm:   2.77%)  (P: 0.027747)  (Q: 0.494767)  (U: 0.992779)  (Q+U: 1.487546)\n",
      "e1d1  (2342)  N: 7    (v: 0.586613, p:  0.286632)  (p_norm:   2.97%)  (P: 0.029735)  (Q: 0.419227)  (U: 0.952937)  (Q+U: 1.372164)\n",
      "g2g4  (3585)  N: 7    (v: 0.419309, p:  0.134427)  (p_norm:   2.60%)  (P: 0.025973)  (Q: 0.500967)  (U: 0.967140)  (Q+U: 1.468107)\n",
      "a2a4  (81  )  N: 7    (v: 0.429469, p:  0.169325)  (p_norm:   2.68%)  (P: 0.026791)  (Q: 0.496634)  (U: 0.977495)  (Q+U: 1.474129)\n",
      "h5h6  (4380)  N: 6    (v: 0.404990, p: -0.060181)  (p_norm:   2.18%)  (P: 0.021847)  (Q: 0.520142)  (U: 0.968281)  (Q+U: 1.488422)\n",
      "h5g6  (4387)  N: 6    (v: 0.416780, p: -0.011226)  (p_norm:   2.28%)  (P: 0.022819)  (Q: 0.513797)  (U: 0.981868)  (Q+U: 1.495666)\n",
      "h5f5  (4394)  N: 6    (v: 0.403819, p: -0.127728)  (p_norm:   2.06%)  (P: 0.020574)  (Q: 0.515993)  (U: 0.938017)  (Q+U: 1.454011)\n",
      "h5f3  (4393)  N: 6    (v: 0.410607, p: -0.054567)  (p_norm:   2.20%)  (P: 0.021956)  (Q: 0.509243)  (U: 0.959624)  (Q+U: 1.468866)\n",
      "h5d1  (4409)  N: 6    (v: 0.419325, p: -0.077689)  (p_norm:   2.15%)  (P: 0.021510)  (Q: 0.508246)  (U: 0.949465)  (Q+U: 1.457710)\n",
      "g1h3  (3560)  N: 6    (v: 0.412777, p:  0.020072)  (p_norm:   2.35%)  (P: 0.023462)  (Q: 0.502816)  (U: 0.984092)  (Q+U: 1.486908)\n",
      "g1f3  (3561)  N: 6    (v: 0.405661, p:  0.016988)  (p_norm:   2.34%)  (P: 0.023398)  (Q: 0.509615)  (U: 0.989573)  (Q+U: 1.499187)\n",
      "g1e2  (3566)  N: 6    (v: 0.411613, p: -0.114563)  (p_norm:   2.08%)  (P: 0.020816)  (Q: 0.507701)  (U: 0.934693)  (Q+U: 1.442393)\n",
      "b1a3  (641 )  N: 6    (v: 0.399380, p: -0.030674)  (p_norm:   2.24%)  (P: 0.022428)  (Q: 0.505254)  (U: 0.965303)  (Q+U: 1.470557)\n",
      "h2h3  (4161)  N: 6    (v: 0.424881, p: -0.048594)  (p_norm:   2.21%)  (P: 0.022073)  (Q: 0.500692)  (U: 0.953470)  (Q+U: 1.454162)\n",
      "g2g3  (3577)  N: 6    (v: 0.415249, p:  0.069802)  (p_norm:   2.45%)  (P: 0.024523)  (Q: 0.499625)  (U: 1.002652)  (Q+U: 1.502277)\n",
      "f2f3  (2993)  N: 6    (v: 0.428227, p: -0.081380)  (p_norm:   2.14%)  (P: 0.021439)  (Q: 0.496536)  (U: 0.936310)  (Q+U: 1.432846)\n",
      "d2d3  (1825)  N: 6    (v: 0.450230, p:  0.028504)  (p_norm:   2.36%)  (P: 0.023639)  (Q: 0.464443)  (U: 0.949339)  (Q+U: 1.413782)\n",
      "h2h4  (4169)  N: 6    (v: 0.419980, p: -0.086448)  (p_norm:   2.13%)  (P: 0.021343)  (Q: 0.510664)  (U: 0.948461)  (Q+U: 1.459125)\n",
      "f2f4  (3001)  N: 6    (v: 0.413194, p: -0.023840)  (p_norm:   2.26%)  (P: 0.022564)  (Q: 0.494308)  (U: 0.957160)  (Q+U: 1.451468)\n",
      "b2b4  (665 )  N: 6    (v: 0.430091, p: -0.071197)  (p_norm:   2.16%)  (P: 0.021634)  (Q: 0.490045)  (U: 0.933817)  (Q+U: 1.423862)\n",
      "h5h7  (4388)  N: 5    (v: 0.413675, p: -0.210517)  (p_norm:   1.91%)  (P: 0.019114)  (Q: 0.528437)  (U: 0.985867)  (Q+U: 1.514304)\n",
      "h5h4  (4384)  N: 5    (v: 0.408577, p: -0.206639)  (p_norm:   1.92%)  (P: 0.019180)  (Q: 0.528860)  (U: 0.987869)  (Q+U: 1.516730)\n",
      "h5e2  (4401)  N: 5    (v: 0.398268, p: -0.235557)  (p_norm:   1.87%)  (P: 0.018693)  (Q: 0.522605)  (U: 0.969965)  (Q+U: 1.492570)\n",
      "c4d5  (1388)  N: 5    (v: 0.392807, p: -0.274463)  (p_norm:   1.81%)  (P: 0.018058)  (Q: 0.513373)  (U: 0.945526)  (Q+U: 1.458899)\n",
      "c4b3  (1392)  N: 5    (v: 0.392746, p: -0.153153)  (p_norm:   2.01%)  (P: 0.020114)  (Q: 0.507530)  (U: 0.988889)  (Q+U: 1.496420)\n",
      "e1e2  (2336)  N: 5    (v: 0.564726, p: -0.021531)  (p_norm:   2.26%)  (P: 0.022611)  (Q: 0.440016)  (U: 0.981120)  (Q+U: 1.421136)\n",
      "e1f1  (2338)  N: 5    (v: 0.565686, p: -0.135057)  (p_norm:   2.04%)  (P: 0.020440)  (Q: 0.428752)  (U: 0.917916)  (Q+U: 1.346668)\n",
      "c2c3  (1241)  N: 5    (v: 0.411381, p: -0.178083)  (p_norm:   1.97%)  (P: 0.019673)  (Q: 0.518301)  (U: 0.989110)  (Q+U: 1.507411)\n",
      "h5e5  (4402)  N: 4    (v: 0.432028, p: -0.291761)  (p_norm:   1.78%)  (P: 0.017782)  (Q: 0.471680)  (U: 0.982352)  (Q+U: 1.454032)\n",
      "h5g4  (4385)  N: 4    (v: 0.420820, p: -0.354189)  (p_norm:   1.68%)  (P: 0.016823)  (Q: 0.515638)  (U: 0.998744)  (Q+U: 1.514383)\n",
      "b1c3  (640 )  N: 4    (v: 0.403696, p: -0.391813)  (p_norm:   1.63%)  (P: 0.016269)  (Q: 0.501489)  (U: 0.968705)  (Q+U: 1.470194)\n",
      "d2d4  (1833)  N: 4    (v: 0.427424, p: -0.319138)  (p_norm:   1.74%)  (P: 0.017355)  (Q: 0.489229)  (U: 0.987624)  (Q+U: 1.476853)\n"
     ]
    }
   ],
   "source": [
    "from test_games import ruy_lopez, scholars_mate\n",
    "from mcts import run_mcts\n",
    "config = TrainingConfig()\n",
    "game = Game(scholars_mate)\n",
    "move, _ = run_mcts(\n",
    "        config,\n",
    "        game,\n",
    "        trt_func,\n",
    "        None,\n",
    "        False,\n",
    "        800,\n",
    "        0,\n",
    "        False,\n",
    "        config.pb_c_factor,\n",
    "        verbose_move=True\n",
    "    )"
   ]
  },
  {
   "cell_type": "code",
   "execution_count": 26,
   "metadata": {},
   "outputs": [],
   "source": [
    "from train.model import generate_model\n",
    "from train.config import TrainingConfig\n",
    "import tensorflow as tf\n",
    "import numpy as np\n",
    "import os\n",
    "from tensorflow.python.compiler.tensorrt import trt_convert as trt\n",
    "config = TrainingConfig()"
   ]
  },
  {
   "cell_type": "code",
   "execution_count": 27,
   "metadata": {},
   "outputs": [],
   "source": [
    "def input_fn():\n",
    "    positions = os.listdir(\"train/conversion_data\")\n",
    "    images = []\n",
    "    for pos in positions:\n",
    "        data_np = np.load(f\"train/conversion_data/{pos}\")\n",
    "        images.append(data_np[\"image\"])\n",
    "    images = np.array(images).astype(np.float32)\n",
    "    images[:, -1] /= 99.0\n",
    "    for _ in range(len(images) // config.num_parallel_reads):\n",
    "        indices = np.random.choice(images.shape[0], config.num_parallel_reads, replace=False)\n",
    "        batch = images[indices]\n",
    "        yield batch\n",
    "\n"
   ]
  },
  {
   "cell_type": "code",
   "execution_count": 29,
   "metadata": {},
   "outputs": [
    {
     "name": "stderr",
     "output_type": "stream",
     "text": [
      "2024-03-22 16:02:49.857853: I tensorflow/core/common_runtime/gpu/gpu_device.cc:1635] Created device /job:localhost/replica:0/task:0/device:GPU:0 with 5659 MB memory:  -> device: 0, name: NVIDIA GeForce RTX 2070 SUPER, pci bus id: 0000:26:00.0, compute capability: 7.5\n",
      "WARNING:absl:Found untraced functions such as _jit_compiled_convolution_op, _jit_compiled_convolution_op, _jit_compiled_convolution_op, _jit_compiled_convolution_op, _jit_compiled_convolution_op while saving (showing 5 of 15). These functions will not be directly callable after loading.\n"
     ]
    },
    {
     "name": "stdout",
     "output_type": "stream",
     "text": [
      "INFO:tensorflow:Assets written to: test/assets\n"
     ]
    },
    {
     "name": "stderr",
     "output_type": "stream",
     "text": [
      "INFO:tensorflow:Assets written to: test/assets\n"
     ]
    }
   ],
   "source": [
    "model = generate_model()\n",
    "model.save(\"test\")\n"
   ]
  },
  {
   "cell_type": "code",
   "execution_count": 30,
   "metadata": {},
   "outputs": [
    {
     "name": "stdout",
     "output_type": "stream",
     "text": [
      "INFO:tensorflow:Linked TensorRT version: (8, 4, 3)\n"
     ]
    },
    {
     "name": "stderr",
     "output_type": "stream",
     "text": [
      "INFO:tensorflow:Linked TensorRT version: (8, 4, 3)\n"
     ]
    },
    {
     "name": "stdout",
     "output_type": "stream",
     "text": [
      "INFO:tensorflow:Loaded TensorRT version: (8, 6, 1)\n"
     ]
    },
    {
     "name": "stderr",
     "output_type": "stream",
     "text": [
      "INFO:tensorflow:Loaded TensorRT version: (8, 6, 1)\n"
     ]
    },
    {
     "name": "stdout",
     "output_type": "stream",
     "text": [
      "INFO:tensorflow:Loaded TensorRT 8.6.1 and linked TensorFlow against TensorRT 8.4.3. This is supported because TensorRT minor/patch upgrades are backward compatible.\n"
     ]
    },
    {
     "name": "stderr",
     "output_type": "stream",
     "text": [
      "INFO:tensorflow:Loaded TensorRT 8.6.1 and linked TensorFlow against TensorRT 8.4.3. This is supported because TensorRT minor/patch upgrades are backward compatible.\n",
      "2024-03-22 16:05:37.841007: I tensorflow/core/grappler/devices.cc:66] Number of eligible GPUs (core count >= 8, compute capability >= 0.0): 1\n",
      "2024-03-22 16:05:37.841924: I tensorflow/core/grappler/clusters/single_machine.cc:358] Starting new session\n",
      "2024-03-22 16:05:37.843253: I tensorflow/core/common_runtime/gpu/gpu_device.cc:1635] Created device /job:localhost/replica:0/task:0/device:GPU:0 with 5659 MB memory:  -> device: 0, name: NVIDIA GeForce RTX 2070 SUPER, pci bus id: 0000:26:00.0, compute capability: 7.5\n"
     ]
    },
    {
     "name": "stdout",
     "output_type": "stream",
     "text": [
      "INFO:tensorflow:Clearing prior device assignments in loaded saved model\n"
     ]
    },
    {
     "name": "stderr",
     "output_type": "stream",
     "text": [
      "INFO:tensorflow:Clearing prior device assignments in loaded saved model\n",
      "2024-03-22 16:05:40.769553: I tensorflow/core/grappler/devices.cc:66] Number of eligible GPUs (core count >= 8, compute capability >= 0.0): 1\n",
      "2024-03-22 16:05:40.769636: I tensorflow/core/grappler/clusters/single_machine.cc:358] Starting new session\n",
      "2024-03-22 16:05:40.770820: I tensorflow/core/common_runtime/gpu/gpu_device.cc:1635] Created device /job:localhost/replica:0/task:0/device:GPU:0 with 5659 MB memory:  -> device: 0, name: NVIDIA GeForce RTX 2070 SUPER, pci bus id: 0000:26:00.0, compute capability: 7.5\n",
      "2024-03-22 16:05:43.061766: W tensorflow/compiler/tf2tensorrt/segment/segment.cc:962] \n",
      "\n",
      "################################################################################\n",
      "TensorRT unsupported/non-converted OP Report:\n",
      "\t- Identity -> 2x\n",
      "\t- NoOp -> 2x\n",
      "\t- Placeholder -> 1x\n",
      "--------------------------------------------------------------------------------\n",
      "\t- Total nonconverted OPs: 5\n",
      "\t- Total nonconverted OP Types: 3\n",
      "For more information see https://docs.nvidia.com/deeplearning/frameworks/tf-trt-user-guide/index.html#supported-ops.\n",
      "################################################################################\n",
      "\n",
      "2024-03-22 16:05:43.062487: W tensorflow/compiler/tf2tensorrt/segment/segment.cc:1290] The environment variable TF_TRT_MAX_ALLOWED_ENGINES=20 has no effect since there are only 1 TRT Engines with  at least minimum_segment_size=3 nodes.\n",
      "2024-03-22 16:05:43.062715: I tensorflow/compiler/tf2tensorrt/convert/convert_graph.cc:799] Number of TensorRT candidate segments: 1\n",
      "2024-03-22 16:05:43.282259: I tensorflow/compiler/tf2tensorrt/convert/convert_graph.cc:913] Replaced segment 0 consisting of 88 nodes by TRTEngineOp_000_000.\n"
     ]
    },
    {
     "name": "stdout",
     "output_type": "stream",
     "text": [
      "[ 95  15  19   2 119  79  30  54  96 107  24 113  53  34 112  48  28 100\n",
      "  32  98  62  92  74  81  37  35   9   3  41  85  56  94]\n"
     ]
    },
    {
     "name": "stderr",
     "output_type": "stream",
     "text": [
      "2024-03-22 16:05:52.122659: I tensorflow/compiler/tf2tensorrt/common/utils.cc:104] Linked TensorRT version: 8.4.3\n",
      "2024-03-22 16:05:52.122759: I tensorflow/compiler/tf2tensorrt/common/utils.cc:106] Loaded TensorRT version: 8.6.1\n",
      "2024-03-22 16:05:58.622132: I tensorflow/compiler/tf2tensorrt/convert/convert_nodes.cc:1330] [TF-TRT] Sparse compute capability: enabled.\n",
      "2024-03-22 16:05:58.633115: W tensorflow/compiler/tf2tensorrt/utils/trt_logger.cc:83] TF-TRT Warning: DefaultLogger BuilderFlag::kENABLE_TACTIC_HEURISTIC has been ignored in this builder run. This feature is only supported on Ampere and beyond.\n",
      "2024-03-22 16:06:00.915738: I tensorflow/compiler/xla/stream_executor/cuda/cuda_dnn.cc:424] Loaded cuDNN version 8600\n"
     ]
    },
    {
     "name": "stdout",
     "output_type": "stream",
     "text": [
      "[ 48  87  25  81  72  47  40  92  35  13 116  76  28  15   5 106 101  80\n",
      "  30  37 109  12 117   1 113  20  22   8  21  41  11 115]\n",
      "[ 69  35  65  48 114  89  14  42  73 108  11  70  37 110  54  90  31 104\n",
      "  77  36 112  50  39 113  79  49 111  63  34 100  25  61]\n",
      "[ 91  38  11 107  67  14  95  80  59  57  28  41 103  29  71  33  78  75\n",
      "  87  58  26  35  20  30  39  93 108   0  72 114 109 101]\n"
     ]
    },
    {
     "name": "stderr",
     "output_type": "stream",
     "text": [
      "2024-03-22 16:06:54.396658: W tensorflow/compiler/tf2tensorrt/utils/trt_logger.cc:83] TF-TRT Warning: DefaultLogger TensorRT encountered issues when converting weights between types and that could affect accuracy.\n",
      "2024-03-22 16:06:54.396686: W tensorflow/compiler/tf2tensorrt/utils/trt_logger.cc:83] TF-TRT Warning: DefaultLogger Check verbose logs for the list of affected weights.\n",
      "2024-03-22 16:06:54.396701: W tensorflow/compiler/tf2tensorrt/utils/trt_logger.cc:83] TF-TRT Warning: DefaultLogger - 16 weights are affected by this issue: Detected subnormal FP16 values.\n",
      "2024-03-22 16:06:54.396730: W tensorflow/compiler/tf2tensorrt/utils/trt_logger.cc:83] TF-TRT Warning: DefaultLogger - 4 weights are affected by this issue: Detected values less than smallest positive FP16 subnormal value and converted them to the FP16 minimum subnormalized value.\n"
     ]
    },
    {
     "name": "stdout",
     "output_type": "stream",
     "text": [
      "INFO:tensorflow:Assets written to: test/assets\n"
     ]
    },
    {
     "name": "stderr",
     "output_type": "stream",
     "text": [
      "INFO:tensorflow:Assets written to: test/assets\n"
     ]
    }
   ],
   "source": [
    "conversion_params = trt.TrtConversionParams(\n",
    "    precision_mode=trt.TrtPrecisionMode.INT8,\n",
    "    use_calibration=True,\n",
    ")\n",
    "\n",
    "converter = trt.TrtGraphConverterV2(\n",
    "    input_saved_model_dir=\"test\",\n",
    "    conversion_params=conversion_params,\n",
    ")\n",
    "\n",
    "converter.convert(calibration_input_fn=input_fn)\n",
    "\n",
    "converter.save(\"test\")"
   ]
  },
  {
   "cell_type": "code",
   "execution_count": 1,
   "metadata": {},
   "outputs": [
    {
     "name": "stderr",
     "output_type": "stream",
     "text": [
      "2024-03-22 22:22:58.036614: I tensorflow/core/platform/cpu_feature_guard.cc:182] This TensorFlow binary is optimized to use available CPU instructions in performance-critical operations.\n",
      "To enable the following instructions: AVX2 FMA, in other operations, rebuild TensorFlow with the appropriate compiler flags.\n",
      "2024-03-22 22:23:00.024323: I tensorflow/core/common_runtime/gpu/gpu_device.cc:1635] Created device /job:localhost/replica:0/task:0/device:GPU:0 with 5793 MB memory:  -> device: 0, name: NVIDIA GeForce RTX 2070 SUPER, pci bus id: 0000:26:00.0, compute capability: 7.5\n",
      "2024-03-22 22:23:01.602258: E tensorflow/compiler/tf2tensorrt/utils/trt_logger.cc:87] DefaultLogger 3: [runtime.cpp::~Runtime::346] Error Code 3: API Usage Error (Parameter check failed at: runtime/rt/runtime.cpp::~Runtime::346, condition: mEngineCounter.use_count() == 1. Destroying a runtime before destroying deserialized engines created by the runtime leads to undefined behavior.\n",
      ")\n"
     ]
    }
   ],
   "source": [
    "import numpy as np\n",
    "from gameimage import board_to_image, update_image\n",
    "import chess\n",
    "from game import Game\n",
    "from actionspace import map_w, map_b\n",
    "import tensorflow as tf\n",
    "from tf_funcs import predict_fn\n",
    "from train.config import TrainingConfig\n",
    "from math import log\n",
    "from time import time\n",
    "from trt_funcs import load_trt_model_latest\n",
    "import pympler.asizeof\n",
    "trt_func, model = load_trt_model_latest()"
   ]
  },
  {
   "cell_type": "code",
   "execution_count": 2,
   "metadata": {},
   "outputs": [],
   "source": [
    "def play_game(config, trt_func):\n",
    "    game = Game(chess.Board())\n",
    "    search_statistics, images, player_on_turn = [], [], []\n",
    "    was_full_search = True\n",
    "    root = None\n",
    "    while not game.terminal_with_outcome():\n",
    "        # Playout cap randomization\n",
    "        do_full_search = True if np.random.default_rng().random() < config.playout_cap_random_p else False\n",
    "        num_simulations = config.num_mcts_sims[1] if do_full_search else config.num_mcts_sims[0]\n",
    "\n",
    "        # Run MCTS \n",
    "        move, root, statistics = run_mcts(\n",
    "            game=game,\n",
    "            config=config,\n",
    "            trt_func=trt_func,\n",
    "            num_simulations=num_simulations,\n",
    "            minimal_exploration=not do_full_search,\n",
    "            root=root,\n",
    "            reuse_tree=not was_full_search and not do_full_search,\n",
    "            return_statistics=do_full_search\n",
    "        )\n",
    "        \n",
    "        # Only moves with full search depth are added to the buffer for training\n",
    "        if do_full_search:\n",
    "            search_statistics.append(statistics)\n",
    "            images.append(root.image)\n",
    "            player_on_turn.append(game.to_play())\n",
    "            \n",
    "        was_full_search = do_full_search\n",
    "        root = root.children[move]\n",
    "        game.make_move(move)\n",
    "    summary = f\"{game.outcome_str}. Full search moves: {len(images)}/{game.history_len}.\"\n",
    "    # Get terminal values for game states based on whos turn it was\n",
    "    terminal_values = [game.terminal_value(player) for player in player_on_turn]\n",
    "    return images, (terminal_values, search_statistics), summary"
   ]
  },
  {
   "cell_type": "code",
   "execution_count": 4,
   "metadata": {},
   "outputs": [
    {
     "name": "stdout",
     "output_type": "stream",
     "text": [
      "Draw: outcome=Threefold repetition. Full search moves: 106/399.\n",
      "White wins: outcome=Checkmate. Full search moves: 13/51.\n",
      "Black wins: outcome=Checkmate. Full search moves: 34/154.\n",
      "Draw: outcome=Fifty moves. Full search moves: 97/392.\n",
      "Draw: outcome=Insufficient material. Full search moves: 79/289.\n",
      "function      64056\n",
      "dict          44227\n",
      "tuple         33911\n",
      "Parameter     28276\n",
      "cell          21427\n",
      "list          13742\n",
      "ReferenceType 10654\n",
      "OrderedDict   6305\n",
      "mappingproxy  6167\n",
      "Signature     6110\n",
      "list                          13741       +66\n",
      "dict                          38729       +64\n",
      "ReferenceType                 10654       +54\n",
      "builtin_function_or_method     4665       +53\n",
      "OrderedDict                    6305       +22\n",
      "tuple                         33903       +18\n",
      "Parameter                     28276       +16\n",
      "set                            2286       +12\n",
      "TensorShape                      53       +10\n",
      "Tensor                          234       +10\n"
     ]
    }
   ],
   "source": [
    "from train.play_game import play_game\n",
    "\n",
    "import objgraph \n",
    "\n",
    "config = TrainingConfig()\n",
    "for i in range(5):\n",
    "    images, (terminal_values, search_stats), summary = play_game(config, trt_func)\n",
    "    print(summary)\n",
    "\n",
    "objgraph.show_most_common_types()\n",
    "objgraph.show_growth()"
   ]
  },
  {
   "cell_type": "code",
   "execution_count": 1,
   "metadata": {},
   "outputs": [
    {
     "ename": "ModuleNotFoundError",
     "evalue": "No module named 'objgraph'",
     "output_type": "error",
     "traceback": [
      "\u001b[0;31m---------------------------------------------------------------------------\u001b[0m",
      "\u001b[0;31mModuleNotFoundError\u001b[0m                       Traceback (most recent call last)",
      "Cell \u001b[0;32mIn[1], line 1\u001b[0m\n\u001b[0;32m----> 1\u001b[0m \u001b[38;5;28;01mimport\u001b[39;00m \u001b[38;5;21;01mobjgraph\u001b[39;00m\n",
      "\u001b[0;31mModuleNotFoundError\u001b[0m: No module named 'objgraph'"
     ]
    }
   ],
   "source": [
    "import objgraph"
   ]
  },
  {
   "cell_type": "code",
   "execution_count": null,
   "metadata": {},
   "outputs": [],
   "source": []
  }
 ],
 "metadata": {
  "kernelspec": {
   "display_name": "Python 3",
   "language": "python",
   "name": "python3"
  },
  "language_info": {
   "codemirror_mode": {
    "name": "ipython",
    "version": 3
   },
   "file_extension": ".py",
   "mimetype": "text/x-python",
   "name": "python",
   "nbconvert_exporter": "python",
   "pygments_lexer": "ipython3",
   "version": "3.10.12"
  }
 },
 "nbformat": 4,
 "nbformat_minor": 2
}
