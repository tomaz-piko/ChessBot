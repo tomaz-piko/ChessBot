{
 "cells": [
  {
   "cell_type": "code",
   "execution_count": 1,
   "metadata": {},
   "outputs": [
    {
     "name": "stderr",
     "output_type": "stream",
     "text": [
      "2024-02-08 15:43:05.347255: I tensorflow/core/platform/cpu_feature_guard.cc:182] This TensorFlow binary is optimized to use available CPU instructions in performance-critical operations.\n",
      "To enable the following instructions: AVX2 FMA, in other operations, rebuild TensorFlow with the appropriate compiler flags.\n"
     ]
    }
   ],
   "source": [
    "from config import Config\n",
    "from game import Game\n",
    "import numpy as np\n",
    "from time import time"
   ]
  },
  {
   "cell_type": "markdown",
   "metadata": {},
   "source": [
    "#### Image generation times\n",
    "\n",
    "- Optimization #1: Cache image for root node during MCTS. Remaking same image in training data generation is pointless.\n",
    "- Optimization #2: Similar concept can be used for picked move.\n",
    "- Optimization #3: Not generating a new image each time but updating the previous one."
   ]
  },
  {
   "cell_type": "code",
   "execution_count": 2,
   "metadata": {},
   "outputs": [],
   "source": [
    "config = Config()\n",
    "config.max_game_length = 200\n",
    "times = []\n",
    "while len(times) < 1000:\n",
    "    game = Game(config)\n",
    "    while not game.terminal():\n",
    "        start = time()\n",
    "        game.make_image(-1)\n",
    "        end = time()\n",
    "        times.append(end - start)\n",
    "        move = np.random.choice(game.legal_moves())\n",
    "        game.make_move(move)\n",
    "        if len(times) == 1000:\n",
    "            break\n",
    "avg_img_gen_time = np.mean(times)"
   ]
  },
  {
   "cell_type": "code",
   "execution_count": 18,
   "metadata": {},
   "outputs": [
    {
     "name": "stdout",
     "output_type": "stream",
     "text": [
      "Average image generation time: 0.0043626298904418945s per image\n",
      "Average image generation time per game (including train data gen): 44.49882488250732s\n",
      "Average image generation time per game (excluding train data gen): 44.06256189346313s\n",
      "Average image generation time difference: 0.43626298904418803s per 100 moves\n",
      "Average image generation time difference: 43.6262989044188s per 10000 training samples\n",
      "Average image generation time difference: 2181.31494522094s per 500000 training samples\n",
      "Average image generation time difference: 36.355249087015665m per 500000 training samples\n",
      "All calculation above * 2 if optimization #2 is also implemented\n"
     ]
    }
   ],
   "source": [
    "# WARN: Data does not asume tree reuse, so it is not 100% accurate. Also terminal nodes are not expanded. Actual time will be lower than this.\n",
    "# Image generation happens on each selected move and during playouts when expanding a leaf node\n",
    "num_simulations = config.num_mcts_sims[1] * 0.25 + config.num_mcts_sims[0] * 0.75\n",
    "#num_simulations = int(num_simulations) # Average number of simulations per move in a game (assuming 25% of simulations are full searches)\n",
    "num_simulations = 100\n",
    "avg_moves_per_game = 100\n",
    "num_image_generations = avg_moves_per_game * (num_simulations + 1) + avg_moves_per_game # One image per simulation, N sims per move, plus one image per move (generate training data)\n",
    "avg_img_gen_time_per_game1 = avg_img_gen_time * num_image_generations\n",
    "print(f\"Average image generation time: {avg_img_gen_time}s per image\")\n",
    "print(f\"Average image generation time per game (including train data gen): {avg_img_gen_time_per_game1}s\")\n",
    "\n",
    "num_image_generations = avg_moves_per_game * (num_simulations + 1) # + 1 for root node (Not counted in num_simulations but still expanded)\n",
    "avg_img_gen_time_per_game2 = avg_img_gen_time * num_image_generations\n",
    "print(f\"Average image generation time per game (excluding train data gen): {avg_img_gen_time_per_game2}s\")\n",
    "\n",
    "# Calc time saved by caching root image\n",
    "avg_img_time_diff = np.abs(avg_img_gen_time_per_game1 - avg_img_gen_time_per_game2)\n",
    "# Per 100 moves\n",
    "print(f\"Average image generation time difference: {avg_img_time_diff}s per {avg_moves_per_game} moves\")\n",
    "# Per 1 training data set (10000 samples)\n",
    "print(f\"Average image generation time difference: {avg_img_time_diff * 100}s per 10000 training samples\")\n",
    "# Per 1 training session (500000 samples)\n",
    "avg_time_diff_s = avg_img_time_diff * 5000\n",
    "print(f\"Average image generation time difference: {avg_time_diff_s}s per 500000 training samples\")\n",
    "avg_time_diff_m = avg_time_diff_s / 60\n",
    "print(f\"Average image generation time difference: {avg_time_diff_m}m per 500000 training samples\")\n",
    "print(\"All calculation above * 2 if optimization #2 is also implemented\")"
   ]
  },
  {
   "cell_type": "code",
   "execution_count": 4,
   "metadata": {},
   "outputs": [
    {
     "name": "stdout",
     "output_type": "stream",
     "text": [
      "Theoretical time gain: 0.5845897536277771s per 100 moves for 1.0% time gain per image update\n",
      "Theoretical time gain: 5.845897536277772s per 100 moves for 10.0% time gain per image update\n",
      "Theoretical time gain: 14.614743840694429s per 100 moves for 25.0% time gain per image update\n",
      "Time gain per 10000 samples between 58.45897536277771s and 1461.4743840694427s\n",
      "With 6 actors, time gain per 10000 samples between 0.1623860426743825m and 4.059651066859563m\n"
     ]
    }
   ],
   "source": [
    "# Highly Theoretical calculation for optimization #3\n",
    "num_image_generations = avg_moves_per_game * (num_simulations) # Including optimization #1 & #2\n",
    "num_img_updates = avg_moves_per_game * (num_simulations - 1)\n",
    "theoretical_perc_time_gain_per_image_min = 0.01\n",
    "theoretical_time_gain_per_image = avg_img_gen_time * theoretical_perc_time_gain_per_image_min # 1% time gain per image\n",
    "theoretical_time_gain1 = theoretical_time_gain_per_image * num_img_updates\n",
    "print(f\"Theoretical time gain: {theoretical_time_gain1}s per 100 moves for {theoretical_perc_time_gain_per_image_min*100}% time gain per image update\")\n",
    "theoretical_perc_time_gain_per_image_mid = 0.1\n",
    "theoretical_time_gain_per_image = avg_img_gen_time * theoretical_perc_time_gain_per_image_mid # 1% time gain per image\n",
    "theoretical_time_gain2 = theoretical_time_gain_per_image * num_img_updates\n",
    "print(f\"Theoretical time gain: {theoretical_time_gain2}s per 100 moves for {theoretical_perc_time_gain_per_image_mid*100}% time gain per image update\")\n",
    "theoretical_perc_time_gain_per_image_max = 0.25\n",
    "theoretical_time_gain_per_image = avg_img_gen_time * theoretical_perc_time_gain_per_image_max # 1% time gain per image\n",
    "theoretical_time_gain3 = theoretical_time_gain_per_image * num_img_updates\n",
    "print(f\"Theoretical time gain: {theoretical_time_gain3}s per 100 moves for {theoretical_perc_time_gain_per_image_max*100}% time gain per image update\")\n",
    "per_10000_training_samples_min = theoretical_time_gain1 * 100\n",
    "per_10000_training_samples_max = theoretical_time_gain3 * 100\n",
    "print(f\"Time gain per 10000 samples between {per_10000_training_samples_min}s and {per_10000_training_samples_max}s\")\n",
    "print(f\"With 6 actors, time gain per 10000 samples between {per_10000_training_samples_min/6/60}m and {per_10000_training_samples_max/6/60}m\")"
   ]
  },
  {
   "cell_type": "code",
   "execution_count": 5,
   "metadata": {},
   "outputs": [
    {
     "name": "stdout",
     "output_type": "stream",
     "text": [
      "Calculations asume 6 agents generating training data\n",
      "Worst case scenario with all optimizations. Image update % time gain: 1.0%\n",
      "Total time gain per 500000 samples: 33592.09778308871s\n",
      "Total time gain per 500000 samples: 93.31138273080198m\n",
      "Total time gain per 500000 samples: 1.5551897121800329h\n",
      "Best case scenario with all optimizations. Image update % time gain: 25.0%\n",
      "Total time gain per 500000 samples: 735099.8021364212s\n",
      "Total time gain per 500000 samples: 2041.9438948233922m\n",
      "Total time gain per 500000 samples: 34.03239824705654h\n"
     ]
    }
   ],
   "source": [
    "# Optimistic worst case scenario for all three optimizations\n",
    "print(\"Calculations asume 6 agents generating training data\")\n",
    "total_time_gain_per_training_session = per_10000_training_samples_min * 500 + avg_time_diff_s * 2\n",
    "print(f\"Worst case scenario with all optimizations. Image update % time gain: {theoretical_perc_time_gain_per_image_min*100}%\")\n",
    "print(f\"Total time gain per 500000 samples: {total_time_gain_per_training_session}s\")\n",
    "print(f\"Total time gain per 500000 samples: {total_time_gain_per_training_session/60/6}m\")\n",
    "print(f\"Total time gain per 500000 samples: {total_time_gain_per_training_session/60/60/6}h\")\n",
    "\n",
    "total_time_gain_per_training_session = per_10000_training_samples_max * 500 + avg_time_diff_s * 2\n",
    "print(f\"Best case scenario with all optimizations. Image update % time gain: {theoretical_perc_time_gain_per_image_max*100}%\")\n",
    "print(f\"Total time gain per 500000 samples: {total_time_gain_per_training_session}s\")\n",
    "print(f\"Total time gain per 500000 samples: {total_time_gain_per_training_session/60/6}m\")\n",
    "print(f\"Total time gain per 500000 samples: {total_time_gain_per_training_session/60/60/6}h\")"
   ]
  },
  {
   "cell_type": "markdown",
   "metadata": {},
   "source": [
    "#### Create image rewrite tests"
   ]
  },
  {
   "cell_type": "code",
   "execution_count": 3,
   "metadata": {},
   "outputs": [
    {
     "ename": "TypingError",
     "evalue": "Failed in nopython mode pipeline (step: nopython frontend)\n\u001b[1m\u001b[1mnon-precise type pyobject\u001b[0m\n\u001b[0m\u001b[1mDuring: typing of argument at /home/tomaz/Documents/ChessBot_2.13/main/gameimage/__init__.py (72)\u001b[0m\n\u001b[1m\nFile \"gameimage/__init__.py\", line 72:\u001b[0m\n\u001b[1mdef get_castlingrights_planes(board: chess.Board):\n    <source elided>\n\n\u001b[1m@njit\n\u001b[0m\u001b[1m^\u001b[0m\u001b[0m \n\nThis error may have been caused by the following argument(s):\n- argument 0: \u001b[1mCannot determine Numba type of <class 'chess.Board'>\u001b[0m \n\nThis error may have been caused by the following argument(s):\n- argument 0: \u001b[1mCannot determine Numba type of <class 'chess.Board'>\u001b[0m\n",
     "output_type": "error",
     "traceback": [
      "\u001b[0;31m---------------------------------------------------------------------------\u001b[0m",
      "\u001b[0;31mTypingError\u001b[0m                               Traceback (most recent call last)",
      "Cell \u001b[0;32mIn[3], line 25\u001b[0m\n\u001b[1;32m     23\u001b[0m \u001b[38;5;28;01mwhile\u001b[39;00m \u001b[38;5;129;01mnot\u001b[39;00m game\u001b[38;5;241m.\u001b[39mterminal():\n\u001b[1;32m     24\u001b[0m     start \u001b[38;5;241m=\u001b[39m time()\n\u001b[0;32m---> 25\u001b[0m     \u001b[43mboard_to_image\u001b[49m\u001b[43m(\u001b[49m\u001b[43mgame\u001b[49m\u001b[38;5;241;43m.\u001b[39;49m\u001b[43mboard\u001b[49m\u001b[43m)\u001b[49m\n\u001b[1;32m     26\u001b[0m     end \u001b[38;5;241m=\u001b[39m time()\n\u001b[1;32m     27\u001b[0m     times2\u001b[38;5;241m.\u001b[39mappend(end \u001b[38;5;241m-\u001b[39m start)\n",
      "File \u001b[0;32m~/.local/lib/python3.10/site-packages/numba/core/dispatcher.py:468\u001b[0m, in \u001b[0;36m_DispatcherBase._compile_for_args\u001b[0;34m(self, *args, **kws)\u001b[0m\n\u001b[1;32m    464\u001b[0m         msg \u001b[38;5;241m=\u001b[39m (\u001b[38;5;124mf\u001b[39m\u001b[38;5;124m\"\u001b[39m\u001b[38;5;132;01m{\u001b[39;00m\u001b[38;5;28mstr\u001b[39m(e)\u001b[38;5;241m.\u001b[39mrstrip()\u001b[38;5;132;01m}\u001b[39;00m\u001b[38;5;124m \u001b[39m\u001b[38;5;130;01m\\n\u001b[39;00m\u001b[38;5;130;01m\\n\u001b[39;00m\u001b[38;5;124mThis error may have been caused \u001b[39m\u001b[38;5;124m\"\u001b[39m\n\u001b[1;32m    465\u001b[0m                \u001b[38;5;124mf\u001b[39m\u001b[38;5;124m\"\u001b[39m\u001b[38;5;124mby the following argument(s):\u001b[39m\u001b[38;5;130;01m\\n\u001b[39;00m\u001b[38;5;132;01m{\u001b[39;00margs_str\u001b[38;5;132;01m}\u001b[39;00m\u001b[38;5;130;01m\\n\u001b[39;00m\u001b[38;5;124m\"\u001b[39m)\n\u001b[1;32m    466\u001b[0m         e\u001b[38;5;241m.\u001b[39mpatch_message(msg)\n\u001b[0;32m--> 468\u001b[0m     \u001b[43merror_rewrite\u001b[49m\u001b[43m(\u001b[49m\u001b[43me\u001b[49m\u001b[43m,\u001b[49m\u001b[43m \u001b[49m\u001b[38;5;124;43m'\u001b[39;49m\u001b[38;5;124;43mtyping\u001b[39;49m\u001b[38;5;124;43m'\u001b[39;49m\u001b[43m)\u001b[49m\n\u001b[1;32m    469\u001b[0m \u001b[38;5;28;01mexcept\u001b[39;00m errors\u001b[38;5;241m.\u001b[39mUnsupportedError \u001b[38;5;28;01mas\u001b[39;00m e:\n\u001b[1;32m    470\u001b[0m     \u001b[38;5;66;03m# Something unsupported is present in the user code, add help info\u001b[39;00m\n\u001b[1;32m    471\u001b[0m     error_rewrite(e, \u001b[38;5;124m'\u001b[39m\u001b[38;5;124munsupported_error\u001b[39m\u001b[38;5;124m'\u001b[39m)\n",
      "File \u001b[0;32m~/.local/lib/python3.10/site-packages/numba/core/dispatcher.py:409\u001b[0m, in \u001b[0;36m_DispatcherBase._compile_for_args.<locals>.error_rewrite\u001b[0;34m(e, issue_type)\u001b[0m\n\u001b[1;32m    407\u001b[0m     \u001b[38;5;28;01mraise\u001b[39;00m e\n\u001b[1;32m    408\u001b[0m \u001b[38;5;28;01melse\u001b[39;00m:\n\u001b[0;32m--> 409\u001b[0m     \u001b[38;5;28;01mraise\u001b[39;00m e\u001b[38;5;241m.\u001b[39mwith_traceback(\u001b[38;5;28;01mNone\u001b[39;00m)\n",
      "\u001b[0;31mTypingError\u001b[0m: Failed in nopython mode pipeline (step: nopython frontend)\n\u001b[1m\u001b[1mnon-precise type pyobject\u001b[0m\n\u001b[0m\u001b[1mDuring: typing of argument at /home/tomaz/Documents/ChessBot_2.13/main/gameimage/__init__.py (72)\u001b[0m\n\u001b[1m\nFile \"gameimage/__init__.py\", line 72:\u001b[0m\n\u001b[1mdef get_castlingrights_planes(board: chess.Board):\n    <source elided>\n\n\u001b[1m@njit\n\u001b[0m\u001b[1m^\u001b[0m\u001b[0m \n\nThis error may have been caused by the following argument(s):\n- argument 0: \u001b[1mCannot determine Numba type of <class 'chess.Board'>\u001b[0m \n\nThis error may have been caused by the following argument(s):\n- argument 0: \u001b[1mCannot determine Numba type of <class 'chess.Board'>\u001b[0m\n"
     ]
    }
   ],
   "source": [
    "from gameimage import board_to_image\n",
    "#from gameimage_v2 import board_to_image as board_to_image_v2\n",
    "num_times = 1000\n",
    "config = Config()\n",
    "config.max_game_length = 200\n",
    "\"\"\" times = []\n",
    "while len(times) < num_times:\n",
    "    game = Game(config)\n",
    "    while not game.terminal():\n",
    "        start = time()\n",
    "        board_to_image(game.board)\n",
    "        end = time()\n",
    "        times.append(end - start)\n",
    "        move = np.random.choice(game.legal_moves())\n",
    "        game.make_move(move)\n",
    "        if len(times) == num_times:\n",
    "            break\n",
    "avg_img_gen_time = np.mean(times) \"\"\"\n",
    "\n",
    "times2 = []\n",
    "while len(times2) < num_times:\n",
    "    game = Game(config)\n",
    "    while not game.terminal():\n",
    "        start = time()\n",
    "        board_to_image(game.board)\n",
    "        end = time()\n",
    "        times2.append(end - start)\n",
    "        move = np.random.choice(game.legal_moves())\n",
    "        game.make_move(move)\n",
    "        if len(times2) == num_times:\n",
    "            break\n",
    "avg_img_gen_time2 = np.mean(times2)"
   ]
  },
  {
   "cell_type": "code",
   "execution_count": 21,
   "metadata": {},
   "outputs": [
    {
     "name": "stdout",
     "output_type": "stream",
     "text": [
      "Average image generation time (old): 0.004468789577484131s per image\n",
      "Average image generation time (rewrite): 0.0038433365821838377s per image\n"
     ]
    }
   ],
   "source": [
    "print(f\"Average image generation time (old): {avg_img_gen_time}s per image\")\n",
    "print(f\"Average image generation time (rewrite): {avg_img_gen_time2}s per image\")"
   ]
  },
  {
   "cell_type": "markdown",
   "metadata": {},
   "source": [
    "##### Actual image update tests"
   ]
  },
  {
   "cell_type": "code",
   "execution_count": 13,
   "metadata": {},
   "outputs": [],
   "source": [
    "from gameimage_v2 import board_to_image as board_to_image_v2\n",
    "from gameimage_v2 import update_image\n",
    "num_times = 10000\n",
    "config = Config()\n",
    "config.max_game_length = 200\n",
    "times = []\n",
    "while len(times) < num_times:\n",
    "    game = Game(config)\n",
    "    image = None\n",
    "    while not game.terminal():\n",
    "        start = time()\n",
    "        if image is None:\n",
    "            image = board_to_image_v2(game.board)\n",
    "        else:\n",
    "            image = update_image(game.board, image)\n",
    "        end = time()\n",
    "        times.append(end - start)\n",
    "        move = np.random.choice(game.legal_moves())\n",
    "        game.make_move(move)\n",
    "        if len(times) == num_times:\n",
    "            break\n",
    "avg_img_update_time = np.mean(times)"
   ]
  },
  {
   "cell_type": "code",
   "execution_count": 14,
   "metadata": {},
   "outputs": [
    {
     "name": "stdout",
     "output_type": "stream",
     "text": [
      "Average image generation time (rewrite + update): 0.0005570780754089355s per image\n"
     ]
    }
   ],
   "source": [
    "print(f\"Average image generation time (rewrite + update): {avg_img_update_time}s per image\")"
   ]
  },
  {
   "cell_type": "markdown",
   "metadata": {},
   "source": [
    "##### Actual image update tests with cython"
   ]
  },
  {
   "cell_type": "code",
   "execution_count": 16,
   "metadata": {},
   "outputs": [
    {
     "name": "stdout",
     "output_type": "stream",
     "text": [
      "Average image generation time (rewrite + update + cython): 0.0004755209922790527s per image\n"
     ]
    }
   ],
   "source": [
    "\n",
    "import test_cython\n",
    "num_times = 10000\n",
    "config = Config()\n",
    "config.max_game_length = 200\n",
    "times = []\n",
    "while len(times) < num_times:\n",
    "    game = Game(config)\n",
    "    image = None\n",
    "    while not game.terminal():\n",
    "        start = time()\n",
    "        if image is None:\n",
    "            image = test_cython.board_to_image(game.board)\n",
    "        else:\n",
    "            image = test_cython.update_image(game.board, image)\n",
    "        end = time()\n",
    "        times.append(end - start)\n",
    "        move = np.random.choice(game.legal_moves())\n",
    "        game.make_move(move)\n",
    "        if len(times) == num_times:\n",
    "            break\n",
    "    image = None\n",
    "avg_img_update_time2 = np.mean(times)\n",
    "print(f\"Average image generation time (rewrite + update + cython): {avg_img_update_time2}s per image\")"
   ]
  },
  {
   "cell_type": "code",
   "execution_count": 17,
   "metadata": {},
   "outputs": [
    {
     "name": "stdout",
     "output_type": "stream",
     "text": [
      "Total image generation time (rewrite + update + cython): 0.04755209922790527s per 100 moves\n"
     ]
    }
   ],
   "source": [
    "total_img_update_time2 = np.sum(times) / 100\n",
    "print(f\"Total image generation time (rewrite + update + cython): {total_img_update_time2}s per 100 moves\")\n"
   ]
  },
  {
   "cell_type": "markdown",
   "metadata": {},
   "source": [
    "#### UCI move to action times\n",
    "\n",
    "- Optimization #1: Create a map for each player of mapping uci moves to actions.\n",
    "- Optimization #2: If above doesn't work. Cache during uci to action mapping during self play. No need to recalc after first calculation."
   ]
  },
  {
   "cell_type": "code",
   "execution_count": 8,
   "metadata": {},
   "outputs": [],
   "source": [
    "from actionspace.mapper import uci_to_action\n",
    "config = Config()\n",
    "config.max_game_length = 200\n",
    "times = []\n",
    "while len(times) < 1000:\n",
    "    game = Game(config)\n",
    "    while not game.terminal():\n",
    "        move = np.random.choice(game.legal_moves())\n",
    "        start = time()\n",
    "        action = uci_to_action(move, game.to_play())\n",
    "        end = time()\n",
    "        game.make_move(move)\n",
    "        times.append(end - start)\n",
    "        if len(times) == 1000:\n",
    "            break\n",
    "avg_utoa_call_time = np.mean(times)"
   ]
  },
  {
   "cell_type": "code",
   "execution_count": 9,
   "metadata": {},
   "outputs": [
    {
     "name": "stdout",
     "output_type": "stream",
     "text": [
      "Average uci_to_action call time: 0.00010584878921508789 s per call\n",
      "Average uci_to_action call time per game (excluding train data generation): 43.18630599975586 s\n",
      "Average uci_to_action call time per game (including train data generation): 43.50385236740112 s\n"
     ]
    }
   ],
   "source": [
    "# WARN: Data does not asume tree reuse, so it is not 100% accurate. Also terminal nodes are not expanded. Actual time will be lower than this.\n",
    "# We can use same simulation numbers as above\n",
    "# On average there are about 30 possible moves per turn\n",
    "avg_num_moves_per_position = 30\n",
    "# uci_to_action is called on each possible move during playouts when expanding a leaf node and when generating training data\n",
    "num_utoa_calls = avg_moves_per_game * (num_simulations + 1) * avg_num_moves_per_position #  During MCTS on end of each simulation\n",
    "print(f\"Average uci_to_action call time: {avg_utoa_call_time}s per call\")\n",
    "avg_utoa_call_time_per_game = avg_utoa_call_time * num_utoa_calls\n",
    "print(f\"Average uci_to_action call time per game (excluding train data generation): {avg_utoa_call_time_per_game}s\")\n",
    "num_utoa_calls += avg_moves_per_game * avg_num_moves_per_position\n",
    "avg_utoa_call_time_per_game = avg_utoa_call_time * num_utoa_calls\n",
    "print(f\"Average uci_to_action call time per game (including train data generation): {avg_utoa_call_time_per_game}s\")"
   ]
  },
  {
   "cell_type": "code",
   "execution_count": 10,
   "metadata": {},
   "outputs": [],
   "source": [
    "# Theoretically we could have a cached map of uci to action\n",
    "action_space_map = {i: i for i in range(4672)}\n",
    "config = Config()\n",
    "config.max_game_length = 200\n",
    "times = []\n",
    "while len(times) < 1000:\n",
    "    game = Game(config)\n",
    "    while not game.terminal():\n",
    "        move = np.random.choice(game.legal_moves())\n",
    "        action = uci_to_action(move, game.to_play())\n",
    "        start = time()\n",
    "        action = action_space_map[action]\n",
    "        end = time()\n",
    "        game.make_move(move)\n",
    "        times.append(end - start)\n",
    "        if len(times) == 1000:\n",
    "            break\n",
    "avg_utoa_cached_call_time = np.mean(times)"
   ]
  },
  {
   "cell_type": "code",
   "execution_count": 11,
   "metadata": {},
   "outputs": [
    {
     "name": "stdout",
     "output_type": "stream",
     "text": [
      "Average uci_to_action call time: 7.145404815673828e-07 s per call\n",
      "Average uci_to_action call time per game (excluding train data generation): 0.2915325164794922 s\n",
      "Average uci_to_action call time per game (including train data generation): 0.29367613792419434 s\n"
     ]
    }
   ],
   "source": [
    "# uci_to_action is called on each possible move during playouts when expanding a leaf node and when generating training data\n",
    "num_utoa_calls = avg_moves_per_game * (num_simulations + 1) * avg_num_moves_per_position #  During MCTS on end of each simulation\n",
    "print(f\"Average uci_to_action call time: {avg_utoa_cached_call_time}s per call\")\n",
    "avg_utoa_cached_call_time_per_game = avg_utoa_cached_call_time * num_utoa_calls\n",
    "print(f\"Average uci_to_action call time per game (excluding train data generation): {avg_utoa_cached_call_time_per_game}s\")\n",
    "num_utoa_calls += avg_moves_per_game * avg_num_moves_per_position\n",
    "avg_utoa_cached_call_time_per_game = avg_utoa_cached_call_time * num_utoa_calls\n",
    "print(f\"Average uci_to_action call time per game (including train data generation): {avg_utoa_cached_call_time_per_game}s\")"
   ]
  },
  {
   "cell_type": "code",
   "execution_count": 12,
   "metadata": {},
   "outputs": [
    {
     "name": "stdout",
     "output_type": "stream",
     "text": [
      "Average uci_to_action call time difference: 43.21017622947693 s per 100 moves\n",
      "Average uci_to_action call time difference: 4321.017622947693 s per 10000 training samples\n",
      "Average uci_to_action call time difference: 216050.88114738464 s per 500000 training samples\n",
      "Average uci_to_action call time difference: 3600.8480191230774 m per 500000 training samples\n"
     ]
    }
   ],
   "source": [
    "# Calc time saved by caching uci to action\n",
    "avg_utoa_time_diff = np.abs(avg_utoa_call_time_per_game - avg_utoa_cached_call_time_per_game)\n",
    "print(f\"Average uci_to_action call time difference: {avg_utoa_time_diff}s per {avg_moves_per_game} moves\")\n",
    "print(f\"Average uci_to_action call time difference: {avg_utoa_time_diff * 100}s per 10000 training samples\")\n",
    "avg_time_diff_s = avg_utoa_time_diff * 5000\n",
    "print(f\"Average uci_to_action call time difference: {avg_time_diff_s}s per 500000 training samples\")\n",
    "avg_time_diff_m = avg_time_diff_s / 60\n",
    "print(f\"Average uci_to_action call time difference: {avg_time_diff_m}m per 500000 training samples\")"
   ]
  },
  {
   "cell_type": "markdown",
   "metadata": {},
   "source": [
    "##### Testing optimization #1\n"
   ]
  },
  {
   "cell_type": "code",
   "execution_count": 14,
   "metadata": {},
   "outputs": [],
   "source": [
    "from actionspace.maps import map_w, map_b\n",
    "config = Config()\n",
    "config.max_game_length = 200\n",
    "times = []\n",
    "while len(times) < 1000:\n",
    "    game = Game(config)\n",
    "    while not game.terminal():\n",
    "        move = np.random.choice(game.legal_moves())\n",
    "        start = time()\n",
    "        action = map_w[move] if game.to_play() else map_b[move]\n",
    "        end = time()\n",
    "        game.make_move(move)\n",
    "        times.append(end - start)\n",
    "        if len(times) == 1000:\n",
    "            break\n",
    "avg_utoa_cached_call_time = np.mean(times)"
   ]
  },
  {
   "cell_type": "code",
   "execution_count": 15,
   "metadata": {},
   "outputs": [
    {
     "name": "stdout",
     "output_type": "stream",
     "text": [
      "Average uci_to_action call time: 9.558200836181641e-07 s per call\n",
      "Average uci_to_action call time per game (excluding train data generation): 0.389974594116211 s\n",
      "Average uci_to_action call time per game (including train data generation): 0.3928420543670655 s\n"
     ]
    }
   ],
   "source": [
    "num_utoa_calls = avg_moves_per_game * (num_simulations + 1) * avg_num_moves_per_position #  During MCTS on end of each simulation\n",
    "print(f\"Average uci_to_action call time: {avg_utoa_cached_call_time}s per call\")\n",
    "avg_utoa_cached_call_time_per_game = avg_utoa_cached_call_time * num_utoa_calls\n",
    "print(f\"Average uci_to_action call time per game (excluding train data generation): {avg_utoa_cached_call_time_per_game} s\")\n",
    "num_utoa_calls += avg_moves_per_game * avg_num_moves_per_position\n",
    "avg_utoa_cached_call_time_per_game = avg_utoa_cached_call_time * num_utoa_calls\n",
    "print(f\"Average uci_to_action call time per game (including train data generation): {avg_utoa_cached_call_time_per_game} s\")"
   ]
  },
  {
   "cell_type": "code",
   "execution_count": 16,
   "metadata": {},
   "outputs": [
    {
     "name": "stdout",
     "output_type": "stream",
     "text": [
      "Average uci_to_action call time difference: 43.11101031303406 s per 100 moves\n",
      "Average uci_to_action call time difference: 4311.101031303406 s per 10000 training samples\n",
      "Average uci_to_action call time difference: 215555.0515651703 s per 500000 training samples\n",
      "Average uci_to_action call time difference: 3592.584192752838 m per 500000 training samples\n"
     ]
    }
   ],
   "source": [
    "# Calc time saved by caching uci to action\n",
    "avg_utoa_time_diff = np.abs(avg_utoa_call_time_per_game - avg_utoa_cached_call_time_per_game)\n",
    "print(f\"Average uci_to_action call time difference: {avg_utoa_time_diff}s per {avg_moves_per_game} moves\")\n",
    "print(f\"Average uci_to_action call time difference: {avg_utoa_time_diff * 100} s per 10000 training samples\")\n",
    "avg_time_diff_s = avg_utoa_time_diff * 5000\n",
    "print(f\"Average uci_to_action call time difference: {avg_time_diff_s}s per 500000 training samples\")\n",
    "avg_time_diff_m = avg_time_diff_s / 60\n",
    "print(f\"Average uci_to_action call time difference: {avg_time_diff_m}m per 500000 training samples\")"
   ]
  },
  {
   "cell_type": "markdown",
   "metadata": {},
   "source": [
    "##### Testing optimization in actual games (but with random values and policies)"
   ]
  },
  {
   "cell_type": "markdown",
   "metadata": {},
   "source": [
    "###### Testing action space optimizations"
   ]
  },
  {
   "cell_type": "code",
   "execution_count": 5,
   "metadata": {},
   "outputs": [],
   "source": [
    "def fake_network(images):\n",
    "    value = np.random.rand()\n",
    "    policy = np.random.rand(4672)\n",
    "    return value, policy\n",
    "\n",
    "from mcts_old import run_mcts as run_mcts_old\n",
    "from mcts import run_mcts as run_mcts_cached\n",
    "from game import Game\n",
    "from time import time\n",
    "import numpy as np\n",
    "from config import Config\n",
    "\n",
    "config = Config()\n",
    "config.max_game_length = 150\n",
    "move_times_old = []\n",
    "while len(move_times_old) < 1000:\n",
    "    game = Game(config)\n",
    "    while not game.terminal():\n",
    "        start = time()\n",
    "        move, _ = run_mcts_old(game, fake_network)\n",
    "        end = time()\n",
    "        move_times_old.append(end - start)\n",
    "        if len(move_times_old) == 1000:\n",
    "            break\n",
    "        game.make_move(move)\n",
    "\n",
    "move_times_cached = []\n",
    "while len(move_times_cached) < 1000:\n",
    "    game = Game(config)\n",
    "    while not game.terminal():\n",
    "        start = time()\n",
    "        move, _ = run_mcts_cached(game, fake_network)\n",
    "        end = time()\n",
    "        move_times_cached.append(end - start)\n",
    "        if len(move_times_cached) == 1000:\n",
    "            break\n",
    "        game.make_move(move)\n"
   ]
  },
  {
   "cell_type": "code",
   "execution_count": 16,
   "metadata": {},
   "outputs": [
    {
     "name": "stdout",
     "output_type": "stream",
     "text": [
      "Average move time old: 0.8157329399585724s\n",
      "Average move time cached: 0.5226809375286102s\n",
      "Average move time difference: 0.2930520024299622s\n",
      "Total time old: 815.7329399585724s\n",
      "Total time cached: 522.6809375286102s\n",
      "Total time difference: 293.05200242996216s\n",
      "Average move time difference: 2930.520024299622s per 10000 samples\n",
      "Average move time difference (6 actors): 488.420004049937s per 10000 samples\n",
      "Average move time difference (6 actors) for a full training session: 6.783611167360236h per 500000 samples\n"
     ]
    }
   ],
   "source": [
    "# Data may still vary since games are different and simulations have different number of legal moves to evaluate\n",
    "# Also dows not account for tree reuse, training data generation, etc.\n",
    "print(f\"Average move time old: {np.mean(move_times_old)}s\")\n",
    "print(f\"Average move time cached: {np.mean(move_times_cached)}s\")\n",
    "\n",
    "avg_time_diff = np.abs(np.mean(move_times_old) - np.mean(move_times_cached))\n",
    "print(f\"Average move time difference: {avg_time_diff}s\")\n",
    "\n",
    "print(f\"Total time old: {np.sum(move_times_old)}s\")\n",
    "print(f\"Total time cached: {np.sum(move_times_cached)}s\")\n",
    "\n",
    "total_time_diff = np.abs(np.sum(move_times_old) - np.sum(move_times_cached))\n",
    "print(f\"Total time difference: {total_time_diff}s\")\n",
    "\n",
    "# Per a sample of 10000\n",
    "print(f\"Average move time difference: {avg_time_diff * 10000}s per 10000 samples\")\n",
    "print(f\"Average move time difference (6 actors): {avg_time_diff * 10000 / 6}s per 10000 samples\")\n",
    "print(f\"Average move time difference (6 actors) for a full training session: {((avg_time_diff * 500000) / 6) / 60 / 60}h per 500000 samples\")\n",
    "\n"
   ]
  },
  {
   "cell_type": "markdown",
   "metadata": {},
   "source": [
    "###### Testing image updating optimizations"
   ]
  },
  {
   "cell_type": "code",
   "execution_count": 5,
   "metadata": {},
   "outputs": [
    {
     "name": "stdout",
     "output_type": "stream",
     "text": [
      "Average move time old: 0.8389750304222107s\n",
      "Average move time new: 0.1310068609714508s\n"
     ]
    }
   ],
   "source": [
    "from actionspace.mapper import uci_to_action\n",
    "from actionspace.maps import map_w, map_b\n",
    "\n",
    "from mcts_old import run_mcts as run_mcts_old # Also uses old gameimage\n",
    "from mcts import run_mcts as run_mcts\n",
    "from game import Game\n",
    "from time import time\n",
    "import numpy as np\n",
    "from config import Config\n",
    "\n",
    "def calc_search_statistics_old(config: Config, root, to_play):\n",
    "    sum_visits = sum([child.N for child in root.children.values()])\n",
    "    child_visits = np.zeros(config.num_actions)\n",
    "    for uci_move, child in root.children.items():\n",
    "        action = uci_to_action(uci_move, to_play)\n",
    "        child_visits[action] = child.N / sum_visits\n",
    "    return child_visits\n",
    "\n",
    "def calc_search_statistics(config: Config, root, to_play):\n",
    "    sum_visits = sum([child.N for child in root.children.values()])\n",
    "    child_visits = np.zeros(config.num_actions)\n",
    "    for uci_move, child in root.children.items():\n",
    "        action = map_w[uci_move] if to_play else map_b[uci_move]\n",
    "        child_visits[action] = child.N / sum_visits\n",
    "    return child_visits\n",
    "\n",
    "def fake_network(images):\n",
    "    value = np.random.rand()\n",
    "    policy = np.random.rand(4672)\n",
    "    return value, policy\n",
    "\n",
    "\n",
    "num_moves = 1000\n",
    " # Testing old implementation\n",
    "config = Config()\n",
    "\n",
    "config.max_game_length = 150\n",
    "\n",
    "move_times_old = []\n",
    "images, search_stats = [], []\n",
    "while len(move_times_old) < num_moves:\n",
    "    game = Game(config)\n",
    "    while not game.terminal():\n",
    "        start = time()\n",
    "        move, root = run_mcts_old(game, fake_network, None, 100, 30)\n",
    "        search_stats.append(calc_search_statistics_old(config, root, game.to_play()))\n",
    "        images.append(game.make_image(-1))\n",
    "        end = time()\n",
    "        move_times_old.append(end - start)\n",
    "        if len(move_times_old) == num_moves:\n",
    "            break\n",
    "        game.make_move(move)\n",
    "\n",
    "# Testing new implementation with all optimizations\n",
    "move_times_new = []\n",
    "images, search_stats = [], []\n",
    "while len(move_times_new) < num_moves:\n",
    "    game = Game(config)\n",
    "    while not game.terminal():\n",
    "        start = time()\n",
    "        move, root = run_mcts(config, game, fake_network, None, 100, 30)\n",
    "        search_stats.append(calc_search_statistics(config, root, game.to_play()))\n",
    "        images.append(root.image)\n",
    "        end = time()\n",
    "        move_times_new.append(end - start)\n",
    "        if len(move_times_new) == num_moves:\n",
    "            break\n",
    "        game.make_move(move)\n"
   ]
  },
  {
   "cell_type": "code",
   "execution_count": 7,
   "metadata": {},
   "outputs": [],
   "source": [
    "from actionspace import map_w, map_b\n",
    "from mcts import run_mcts as run_mcts\n",
    "from mcts.c import run_mcts as run_mcts_c\n",
    "from game import Game\n",
    "from time import time\n",
    "import numpy as np\n",
    "from config import Config\n",
    "import tensorflow as tf"
   ]
  },
  {
   "cell_type": "code",
   "execution_count": 4,
   "metadata": {},
   "outputs": [],
   "source": [
    "# Testing brand new implementation with cython and all optimizations\n",
    "def calc_search_statistics(config: Config, root, to_play):\n",
    "    sum_visits = sum([child.N for child in root.children.values()])\n",
    "    child_visits = np.zeros(config.num_actions)\n",
    "    for uci_move, child in root.children.items():\n",
    "        action = map_w[uci_move] if to_play else map_b[uci_move]\n",
    "        child_visits[action] = child.N / sum_visits\n",
    "    return child_visits\n",
    "\n",
    "def fake_network(images):\n",
    "    value = np.random.rand()\n",
    "    policy = np.random.rand(4672)\n",
    "    return value, policy\n",
    "\n",
    "config = Config()\n",
    "config.max_game_length = 150\n",
    "num_moves = 1000\n",
    "move_times_new2 = []\n",
    "images, search_stats = [], []\n",
    "while len(move_times_new2) < num_moves:\n",
    "    game = Game(config)\n",
    "    root = None\n",
    "    while not game.terminal():\n",
    "        start = time()\n",
    "        move, root = run_mcts(config, game, fake_network, root, False, 100, 30)\n",
    "        search_stats.append(calc_search_statistics(config, root, game.to_play()))\n",
    "        images.append(root.image)\n",
    "        root = root.children[move]\n",
    "        end = time()\n",
    "        move_times_new2.append(end - start)\n",
    "        if len(move_times_new2) == num_moves:\n",
    "            break\n",
    "        game.make_move(move)"
   ]
  },
  {
   "cell_type": "code",
   "execution_count": 5,
   "metadata": {},
   "outputs": [
    {
     "name": "stdout",
     "output_type": "stream",
     "text": [
      "Average move time (fully optimized): 0.12471763610839844s\n"
     ]
    }
   ],
   "source": [
    "print(f\"Average move time (fully optimized): {np.mean(move_times_new2)}s\")"
   ]
  },
  {
   "cell_type": "code",
   "execution_count": 16,
   "metadata": {},
   "outputs": [],
   "source": [
    "# Testing brand new implementation with cython and all optimizations\n",
    "def calc_search_statistics(config: Config, root, to_play):\n",
    "    sum_visits = sum([child.N for child in root.children.values()])\n",
    "    child_visits = np.zeros(config.num_actions)\n",
    "    for uci_move, child in root.children.items():\n",
    "        action = map_w[uci_move] if to_play else map_b[uci_move]\n",
    "        child_visits[action] = child.N / sum_visits\n",
    "    return child_visits\n",
    "\n",
    "def fake_network(images):\n",
    "    value = np.random.rand(1)\n",
    "    policy = np.random.rand(4672)\n",
    "    value = tf.convert_to_tensor(value, dtype=tf.float32)\n",
    "    policy = tf.convert_to_tensor(policy, dtype=tf.float32)\n",
    "    return {\n",
    "        \"value_head\": [value],\n",
    "        \"policy_head\": [policy]\n",
    "    }\n",
    "\n",
    "config = Config()\n",
    "config.max_game_length = 150\n",
    "num_moves = 1000\n",
    "move_times_new2 = []\n",
    "images, search_stats = [], []\n",
    "while len(move_times_new2) < num_moves:\n",
    "    game = Game()\n",
    "    root = None\n",
    "    while not game.terminal():\n",
    "        start = time()\n",
    "        move, root = run_mcts_c(config, game, fake_network, root, False, 100, 30)\n",
    "        search_stats.append(calc_search_statistics(config, root, game.to_play()))\n",
    "        images.append(root.image)\n",
    "        root = root.children[move]\n",
    "        end = time()\n",
    "        move_times_new2.append(end - start)\n",
    "        if len(move_times_new2) == num_moves:\n",
    "            break\n",
    "        game.make_move(move)"
   ]
  },
  {
   "cell_type": "code",
   "execution_count": 4,
   "metadata": {},
   "outputs": [
    {
     "name": "stdout",
     "output_type": "stream",
     "text": [
      "Average move time (fully optimized): 0.08124334120750427s\n"
     ]
    }
   ],
   "source": [
    "# With old onehot encode\n",
    "print(f\"Average move time (fully optimized): {np.mean(move_times_new2)}s\")"
   ]
  },
  {
   "cell_type": "code",
   "execution_count": 5,
   "metadata": {},
   "outputs": [
    {
     "name": "stdout",
     "output_type": "stream",
     "text": [
      "Average move time (fully optimized): 0.07955593657493591s\n"
     ]
    }
   ],
   "source": [
    "# With new one hot encode\n",
    "print(f\"Average move time (fully optimized): {np.mean(move_times_new2)}s\")"
   ]
  },
  {
   "cell_type": "code",
   "execution_count": 3,
   "metadata": {},
   "outputs": [
    {
     "name": "stdout",
     "output_type": "stream",
     "text": [
      "Average move time (fully optimized2): 0.07532040333747864s\n"
     ]
    }
   ],
   "source": [
    "print(f\"Average move time (fully optimized2): {np.mean(move_times_new2)}s\")"
   ]
  },
  {
   "cell_type": "code",
   "execution_count": 18,
   "metadata": {},
   "outputs": [
    {
     "name": "stdout",
     "output_type": "stream",
     "text": [
      "Average move time (fully optimized2): 0.06751813793182374s\n"
     ]
    }
   ],
   "source": [
    "print(f\"Average move time (fully optimized2): {np.mean(move_times_new2)}s\")"
   ]
  },
  {
   "cell_type": "code",
   "execution_count": 1,
   "metadata": {},
   "outputs": [
    {
     "name": "stderr",
     "output_type": "stream",
     "text": [
      "2024-02-17 12:36:24.481066: I tensorflow/core/platform/cpu_feature_guard.cc:182] This TensorFlow binary is optimized to use available CPU instructions in performance-critical operations.\n",
      "To enable the following instructions: AVX2 FMA, in other operations, rebuild TensorFlow with the appropriate compiler flags.\n",
      "2024-02-17 12:36:25.891311: I tensorflow/core/common_runtime/gpu/gpu_device.cc:1639] Created device /job:localhost/replica:0/task:0/device:GPU:0 with 905 MB memory:  -> device: 0, name: NVIDIA GeForce RTX 2070 SUPER, pci bus id: 0000:26:00.0, compute capability: 7.5\n"
     ]
    }
   ],
   "source": [
    "from actionspace import map_w, map_b\n",
    "from mcts import run_mcts as run_mcts\n",
    "from mcts.c import run_mcts as run_mcts_c\n",
    "import cppchess\n",
    "import chess\n",
    "from game import Game\n",
    "from time import time\n",
    "import numpy as np\n",
    "from config import Config\n",
    "# Testing with a real model with actual predictions\n",
    "import tensorflow as tf\n",
    "gpu_devices = tf.config.experimental.list_physical_devices('GPU')\n",
    "tf.config.experimental.set_memory_growth(gpu_devices[0], True)\n",
    "\n",
    "model = tf.saved_model.load(\"train/checkpoints/trt/14-02-2024_08:31:11/saved_model\")\n",
    "trt_func = model.signatures[\"serving_default\"]"
   ]
  },
  {
   "cell_type": "code",
   "execution_count": 2,
   "metadata": {},
   "outputs": [],
   "source": [
    "def calc_search_statistics(config: Config, root, to_play):\n",
    "    sum_visits = sum([child.N for child in root.children.values()])\n",
    "    child_visits = np.zeros(config.num_actions)\n",
    "    for uci_move, child in root.children.items():\n",
    "        action = map_w[uci_move] if to_play else map_b[uci_move]\n",
    "        child_visits[action] = child.N / sum_visits\n",
    "    return child_visits\n",
    "\n",
    "config = Config()\n",
    "config.max_game_length = 150\n",
    "num_moves = 100"
   ]
  },
  {
   "cell_type": "code",
   "execution_count": 10,
   "metadata": {},
   "outputs": [],
   "source": [
    "move_times_new = []\n",
    "images, search_stats = [], []\n",
    "while len(move_times_new) < num_moves:\n",
    "    board = chess.Board()\n",
    "    game = Game(board)\n",
    "    root = None\n",
    "    while not game.terminal():\n",
    "        start = time()\n",
    "        move, root = run_mcts(config, game, trt_func, root, False, 600, 30)\n",
    "        search_stats.append(calc_search_statistics(config, root, game.to_play()))\n",
    "        images.append(root.image)\n",
    "        root = root.children[move]\n",
    "        end = time()\n",
    "        move_times_new.append(end - start)\n",
    "        if len(move_times_new) == num_moves:\n",
    "            break\n",
    "        game.make_move(move)"
   ]
  },
  {
   "cell_type": "code",
   "execution_count": 11,
   "metadata": {},
   "outputs": [
    {
     "name": "stdout",
     "output_type": "stream",
     "text": [
      "TIMES FOR ACTUAL PREDICTIONS WITHOUT CYTHON OR C++\n",
      "Average move time (fully optimized): 0.8924691820144653s\n",
      "Total time (fully optimized): 89.24691820144653s for 100 moves\n"
     ]
    }
   ],
   "source": [
    "print(\"TIMES FOR ACTUAL PREDICTIONS WITHOUT CYTHON OR C++\")\n",
    "print(f\"Average move time (fully optimized): {np.mean(move_times_new)}s\")\n",
    "print(f\"Total time (fully optimized): {np.sum(move_times_new)}s for {len(images)} moves\")"
   ]
  },
  {
   "cell_type": "code",
   "execution_count": 12,
   "metadata": {},
   "outputs": [],
   "source": [
    "move_times_new = []\n",
    "images, search_stats = [], []\n",
    "while len(move_times_new) < num_moves:\n",
    "    board = cppchess.Board()\n",
    "    game = Game(board)\n",
    "    root = None\n",
    "    while not game.terminal():\n",
    "        start = time()\n",
    "        move, root = run_mcts_c(config, game, trt_func, root, False, 600, 30)\n",
    "        search_stats.append(calc_search_statistics(config, root, game.to_play()))\n",
    "        images.append(root.image)\n",
    "        root = root.children[move]\n",
    "        end = time()\n",
    "        move_times_new.append(end - start)\n",
    "        if len(move_times_new) == num_moves:\n",
    "            break\n",
    "        game.make_move(move)"
   ]
  },
  {
   "cell_type": "code",
   "execution_count": 13,
   "metadata": {},
   "outputs": [
    {
     "name": "stdout",
     "output_type": "stream",
     "text": [
      "TIMES FOR ACTUAL PREDICTIONS WITH CYTHON & C++\n",
      "Average move time (fully optimized): 0.9618119263648987s\n",
      "Total time (fully optimized): 96.18119263648987s for 100 moves\n"
     ]
    }
   ],
   "source": [
    "print(\"TIMES FOR ACTUAL PREDICTIONS WITH CYTHON & C++\")\n",
    "print(f\"Average move time (fully optimized): {np.mean(move_times_new)}s\")\n",
    "print(f\"Total time (fully optimized): {np.sum(move_times_new)}s for {len(images)} moves\")"
   ]
  },
  {
   "cell_type": "code",
   "execution_count": 1,
   "metadata": {},
   "outputs": [
    {
     "name": "stderr",
     "output_type": "stream",
     "text": [
      "2024-02-12 11:28:39.488085: I tensorflow/core/platform/cpu_feature_guard.cc:182] This TensorFlow binary is optimized to use available CPU instructions in performance-critical operations.\n",
      "To enable the following instructions: AVX2 FMA, in other operations, rebuild TensorFlow with the appropriate compiler flags.\n"
     ]
    }
   ],
   "source": [
    "from config import Config\n",
    "from game import Game\n",
    "import numpy as np\n",
    "from time import time\n",
    "import chess"
   ]
  },
  {
   "cell_type": "code",
   "execution_count": 2,
   "metadata": {},
   "outputs": [],
   "source": [
    "from gameimage_old import board_to_image\n",
    "from gameimage import board_to_image as board_to_image_new\n",
    "num_times = 1000\n",
    "config = Config()\n",
    "config.max_game_length = 200\n",
    "times1 = []\n",
    "times2 = []\n",
    "run = True\n",
    "while run:\n",
    "    game = Game(config)\n",
    "    while not game.terminal():\n",
    "        # Test prev impl\n",
    "        start = time()\n",
    "        img1 = board_to_image(game.board)\n",
    "        end = time()\n",
    "        times1.append(end - start)\n",
    "\n",
    "        # Test new impl\n",
    "        start = time()\n",
    "        img2 = board_to_image_new(game.board)\n",
    "        end = time()\n",
    "        times2.append(end - start)\n",
    "\n",
    "        move = np.random.choice(game.legal_moves())\n",
    "        game.make_move(move)\n",
    "        if len(times2) == num_times:\n",
    "            run = False\n",
    "            break"
   ]
  },
  {
   "cell_type": "code",
   "execution_count": 3,
   "metadata": {},
   "outputs": [
    {
     "name": "stdout",
     "output_type": "stream",
     "text": [
      "Average image generation time (old): 0.004028122901916504s per image\n",
      "Average image generation time (new): 0.00089847731590271s per image\n"
     ]
    }
   ],
   "source": [
    "print(f\"Average image generation time (old): {np.mean(times1)}s per image\")\n",
    "print(f\"Average image generation time (new): {np.mean(times2)}s per image\")"
   ]
  },
  {
   "cell_type": "code",
   "execution_count": 6,
   "metadata": {},
   "outputs": [],
   "source": [
    "from gameimage_old import board_to_image, update_image\n",
    "from gameimage import board_to_image as board_to_image_new\n",
    "from gameimage import update_image as update_image_new\n",
    "\n",
    "num_times = 1000\n",
    "config = Config()\n",
    "config.max_game_length = 200\n",
    "times1 = []\n",
    "times2 = []\n",
    "run = True\n",
    "while run:\n",
    "    game = Game(config)\n",
    "    img1, img2 = None, None\n",
    "    while not game.terminal():\n",
    "        # Test prev impl\n",
    "        start = time()\n",
    "        if img1 is None:\n",
    "            img1 = board_to_image(game.board)\n",
    "        else:\n",
    "            img1 = update_image(game.board, img1)\n",
    "        end = time()\n",
    "        times1.append(end - start)\n",
    "\n",
    "        # Test new impl\n",
    "        start = time()\n",
    "        if img2 is None:\n",
    "            img2 = board_to_image_new(game.board)\n",
    "        else:\n",
    "            img2 = update_image_new(game.board, img2)\n",
    "        end = time()\n",
    "        times2.append(end - start)\n",
    "\n",
    "        move = np.random.choice(game.legal_moves())\n",
    "        game.make_move(move)\n",
    "        if len(times2) == num_times:\n",
    "            run = False\n",
    "            break"
   ]
  },
  {
   "cell_type": "code",
   "execution_count": 7,
   "metadata": {},
   "outputs": [
    {
     "name": "stdout",
     "output_type": "stream",
     "text": [
      "Average image generation / update time (old): 0.000598430871963501s per image\n",
      "Average image generation / update time (new): 0.00014314079284667968s per image\n"
     ]
    }
   ],
   "source": [
    "print(f\"Average image generation / update time (old): {np.mean(times1)}s per image\")\n",
    "print(f\"Average image generation / update time (new): {np.mean(times2)}s per image\")"
   ]
  },
  {
   "cell_type": "code",
   "execution_count": 3,
   "metadata": {},
   "outputs": [],
   "source": [
    "from config import Config\n",
    "from game import Game\n",
    "import numpy as np\n",
    "from time import time\n",
    "import cppchess.cychess as chess\n",
    "from gameimage.c import board_to_image, update_image\n",
    "\n",
    "num_times = 1000\n",
    "config = Config()\n",
    "config.max_game_length = 200\n",
    "times1 = []\n",
    "run = True\n",
    "while run:\n",
    "    game = Game()\n",
    "    img = None\n",
    "    while not game.terminal():\n",
    "        # Test prev impl\n",
    "        start = time()\n",
    "        if img is None:\n",
    "            img = board_to_image(game.board)\n",
    "        else:\n",
    "            img = update_image(game.board, img)\n",
    "        end = time()\n",
    "        times1.append(end - start)\n",
    "        move = np.random.choice(game.legal_moves())\n",
    "        game.make_move(move)\n",
    "        if len(times1) == num_times:\n",
    "            run = False\n",
    "            break\n"
   ]
  },
  {
   "cell_type": "code",
   "execution_count": 4,
   "metadata": {},
   "outputs": [
    {
     "name": "stdout",
     "output_type": "stream",
     "text": [
      "Average image generation / update time (cpp): 8.166742324829102e-05s per image\n"
     ]
    }
   ],
   "source": [
    "print(f\"Average image generation / update time (cpp): {np.mean(times1)}s per image\")"
   ]
  },
  {
   "cell_type": "code",
   "execution_count": null,
   "metadata": {},
   "outputs": [],
   "source": []
  }
 ],
 "metadata": {
  "kernelspec": {
   "display_name": "Python 3",
   "language": "python",
   "name": "python3"
  },
  "language_info": {
   "codemirror_mode": {
    "name": "ipython",
    "version": 3
   },
   "file_extension": ".py",
   "mimetype": "text/x-python",
   "name": "python",
   "nbconvert_exporter": "python",
   "pygments_lexer": "ipython3",
   "version": "3.10.12"
  }
 },
 "nbformat": 4,
 "nbformat_minor": 2
}
