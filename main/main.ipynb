{
 "cells": [
  {
   "cell_type": "code",
   "execution_count": 11,
   "metadata": {},
   "outputs": [],
   "source": [
    "neki = 100\n",
    "limit = 100\n",
    "\n",
    "if neki and neki > limit:\n",
    "    print(neki)"
   ]
  },
  {
   "cell_type": "code",
   "execution_count": 16,
   "metadata": {},
   "outputs": [
    {
     "name": "stdout",
     "output_type": "stream",
     "text": [
      "<class 'str'>\n"
     ]
    }
   ],
   "source": [
    "from tensorflow.python.compiler.tensorrt.trt_convert import TrtPrecisionMode\n",
    "precisionMode = TrtPrecisionMode.INT8\n",
    "print(type(precisionMode))\n"
   ]
  },
  {
   "cell_type": "code",
   "execution_count": 1,
   "metadata": {},
   "outputs": [
    {
     "name": "stderr",
     "output_type": "stream",
     "text": [
      "2024-05-23 11:13:35.511064: I tensorflow/core/platform/cpu_feature_guard.cc:182] This TensorFlow binary is optimized to use available CPU instructions in performance-critical operations.\n",
      "To enable the following instructions: AVX2 FMA, in other operations, rebuild TensorFlow with the appropriate compiler flags.\n",
      "2024-05-23 11:13:36.947640: I tensorflow/core/common_runtime/gpu/gpu_device.cc:1635] Created device /job:localhost/replica:0/task:0/device:GPU:0 with 5831 MB memory:  -> device: 0, name: NVIDIA GeForce RTX 2070 SUPER, pci bus id: 0000:26:00.0, compute capability: 7.5\n",
      "2024-05-23 11:13:37.572225: E tensorflow/compiler/tf2tensorrt/utils/trt_logger.cc:87] DefaultLogger 3: [runtime.cpp::~Runtime::346] Error Code 3: API Usage Error (Parameter check failed at: runtime/rt/runtime.cpp::~Runtime::346, condition: mEngineCounter.use_count() == 1. Destroying a runtime before destroying deserialized engines created by the runtime leads to undefined behavior.\n",
      ")\n"
     ]
    }
   ],
   "source": [
    "# Benchmark\n",
    "import time\n",
    "#import chess\n",
    "import cppchess as chess\n",
    "from game import Game\n",
    "from mcts.c import run_mcts\n",
    "from train.config import TrainingConfig\n",
    "from trt_funcs import load_trt_checkpoint_latest\n",
    "\n",
    "trt_func, model = load_trt_checkpoint_latest()"
   ]
  },
  {
   "cell_type": "code",
   "execution_count": 2,
   "metadata": {},
   "outputs": [
    {
     "name": "stdout",
     "output_type": "stream",
     "text": [
      "Average time: 2.609641122817993\n"
     ]
    }
   ],
   "source": [
    "game = Game(chess.Board(), resignable=True)\n",
    "config = TrainingConfig()\n",
    "\n",
    "times = []\n",
    "for i in range(10):\n",
    "    t1 = time.time()\n",
    "    move, root, _ = run_mcts(\n",
    "        game,\n",
    "        config,\n",
    "        trt_func, \n",
    "        num_simulations=10000, \n",
    "        time_limit=None,\n",
    "        #verbose_move=True,\n",
    "        engine_play=True)\n",
    "    t2 = time.time()\n",
    "    times.append(t2 - t1)\n",
    "\n",
    "print(f\"Average time: {sum(times) / len(times)}\")"
   ]
  },
  {
   "cell_type": "code",
   "execution_count": 3,
   "metadata": {},
   "outputs": [
    {
     "data": {
      "text/plain": [
       "3831.944520096161"
      ]
     },
     "execution_count": 3,
     "metadata": {},
     "output_type": "execute_result"
    }
   ],
   "source": [
    "# Calculate average nodes per second\n",
    "nps = 10000 / (sum(times) / len(times))\n",
    "nps"
   ]
  },
  {
   "cell_type": "code",
   "execution_count": 15,
   "metadata": {},
   "outputs": [
    {
     "name": "stdout",
     "output_type": "stream",
     "text": [
      "Average time: 0.00011489391326904296\n"
     ]
    }
   ],
   "source": [
    "import chess\n",
    "import chess.syzygy\n",
    "import time\n",
    "import numpy as np\n",
    "\n",
    "tb = chess.syzygy.open_tablebase(\"/home/tomaz/syzygy\")\n",
    "if tb is None:\n",
    "    print(\"Failed to open tablebase\")\n",
    "times = []\n",
    "for i in range(10):\n",
    "    t1 = time.time()\n",
    "    board = chess.Board()\n",
    "    wdl = tb.get_wdl(board)\n",
    "    t2 = time.time()\n",
    "    times.append(t2 - t1)\n",
    "\n",
    "print(f\"Average time: {sum(times) / len(times)}\")"
   ]
  },
  {
   "cell_type": "code",
   "execution_count": 14,
   "metadata": {},
   "outputs": [
    {
     "name": "stdout",
     "output_type": "stream",
     "text": [
      "Average time: 0.003620326519012451\n"
     ]
    }
   ],
   "source": [
    "for i in range(10):\n",
    "    t1 = time.time()\n",
    "    with chess.syzygy.open_tablebase(\"/home/tomaz/syzygy\", load_dtz=False) as tablebase:\n",
    "        board = chess.Board()\n",
    "        wdl = tb.get_wdl(board)\n",
    "    t2 = time.time()\n",
    "    times.append(t2 - t1)\n",
    "\n",
    "print(f\"Average time: {sum(times) / len(times)}\")\n"
   ]
  },
  {
   "cell_type": "code",
   "execution_count": null,
   "metadata": {},
   "outputs": [],
   "source": [
    "\"\"\" if config.wdl_termination_move_limit and game.history_len >= config.wdl_termination_move_limit and game.board.halfmove_clock == 0:\n",
    "    pieces_count = sum([1 for square in range(0, 64) if game.board.piece_at(square)])\n",
    "    if pieces_count <= 5:\n",
    "        with syzygy.open_tablebase(config.syzygy_tb_dir, load_dtz=False) as tablebase:\n",
    "            board = pychess.Board(game.board.fen())\n",
    "            wdl = tablebase.get_wdl(board)\n",
    "            if wdl is not None and not (wdl == 1 or wdl == -1):\n",
    "                if wdl == 0:\n",
    "                    game.terminate(None, 8) # 8 -> tablebase outcome\n",
    "                else:\n",
    "                    game.terminate(game.to_play() if wdl > 0 else not game.to_play(), 8)\n",
    "                break \"\"\""
   ]
  }
 ],
 "metadata": {
  "kernelspec": {
   "display_name": "Python 3",
   "language": "python",
   "name": "python3"
  },
  "language_info": {
   "codemirror_mode": {
    "name": "ipython",
    "version": 3
   },
   "file_extension": ".py",
   "mimetype": "text/x-python",
   "name": "python",
   "nbconvert_exporter": "python",
   "pygments_lexer": "ipython3",
   "version": "3.10.12"
  }
 },
 "nbformat": 4,
 "nbformat_minor": 2
}
